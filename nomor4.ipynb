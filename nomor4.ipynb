{
 "cells": [
  {
   "cell_type": "code",
   "execution_count": 2,
   "metadata": {},
   "outputs": [],
   "source": [
    "# mengimport library pandas\n",
    "import pandas as pd\n",
    "import scipy.stats as s\n",
    "import math\n",
    "\n",
    "\n",
    "# membaca file csv\n",
    "df = pd.read_csv(\"water_potability.csv\",\n",
    "        names = [\"id\", \"pH\", \"Hardness\", \"Solids\", \"Chloramines\", \"Sulfate\", \"Conductivity\", \"OrganicCarbon\", \"Trihalomethanes\",\n",
    "                \"Turbidity\", \"Potability\"])\n",
    "\n",
    "def zvalue(x, mean, std, n):\n",
    "  return (x-mean)*math.sqrt(n)/std\n",
    "def ptoz(p):\n",
    "  return s.norm.ppf(p)\n",
    "def ztop(z):\n",
    "  return s.norm.cdf(z)\n",
    "def ztwotestmean(d0, x1, x2, var1, var2, n1, n2):\n",
    "  return((x1 - x2) - d0)/math.sqrt((var1/n1) + (var2/n2))"
   ]
  },
  {
   "cell_type": "markdown",
   "metadata": {},
   "source": [
    "# Nomor 4 Test Hipotesis Sampel 1\n",
    "## A) Nilai Rata-rata pH di atas 7 \n",
    "1. Tentukan hipotesis nol \n",
    "\n",
    "      $H_0$ : $\\mu$ = 7\n",
    "      \n",
    "2. Tentukan hipotesis alternatif\n",
    "\n",
    "      $H_1$ : $p$ > 7\n",
    "    \n",
    "3. Tentukan tingkat signifikan \n",
    "    \n",
    "      $\\alpha$ = 0.05\n",
    "    \n",
    "4. Tentukan uji statistik yang sesuai dan tentukan daerah kritis.\n",
    "\n",
    "      Uji statistik : One-Tailed Test\n",
    "      \n",
    "      Daerah kritis : z > -$z_{\\alpha}$ \n",
    "                    : z > 1.645\n",
    "\n",
    "5. Hitung nilai uji statistik\n",
    "6. z > -$z_{\\alpha}$, maka tolak hipotesis null. Jadi rata-rata pH di atas 7."
   ]
  },
  {
   "cell_type": "code",
   "execution_count": 20,
   "metadata": {},
   "outputs": [
    {
     "name": "stdout",
     "output_type": "stream",
     "text": [
      "Nilai z : 2.485445147379887\n",
      "Nilai z-alpha : 1.6448536269514722\n"
     ]
    }
   ],
   "source": [
    "mean = 7\n",
    "rataan = df['pH'].mean()\n",
    "std = df['pH'].std()\n",
    "n = df['pH'].count()\n",
    "\n",
    "print(\"Nilai z : \" +str(zvalue(rataan, mean, std, n)))\n",
    "print(\"Nilai z-alpha : \" +str(ptoz(0.95)))"
   ]
  },
  {
   "cell_type": "markdown",
   "metadata": {},
   "source": [
    "## B) Nilai Rata-rata Hardness tidak saama dengan 205\n",
    "1. Tentukan hipotesis nol \n",
    "\n",
    "      $H_0$ : $\\mu$ = 205\n",
    "      \n",
    "2. Tentukan hipotesis alternatif\n",
    "\n",
    "      $H_1$ : $p$ $\\neq$ 205\n",
    "    \n",
    "3. Tentukan tingkat signifikan \n",
    "    \n",
    "      $\\alpha$ = 0.05\n",
    "    \n",
    "4. Tentukan uji statistik yang sesuai dan tentukan daerah kritis.\n",
    "\n",
    "      Uji statistik : Two-Tailed Test\n",
    "      \n",
    "      Daerah kritis : z > $z_{\\alpha/2}$ or z < -$z_{\\alpha/2}$ \n",
    "                    : z > 1.96 or z < -1.96\n",
    "\n",
    "5. Hitung nilai uji statistik\n",
    "6. z < $z_{\\alpha/2}$, maka tolak hipotesis null. Jadi rata-rata Hardness tidak sama dengan 205."
   ]
  },
  {
   "cell_type": "code",
   "execution_count": 21,
   "metadata": {},
   "outputs": [
    {
     "name": "stdout",
     "output_type": "stream",
     "text": [
      "Nilai t : -12.403137170010732\n",
      "Nilai t-alpha : 1.959963984540054\n"
     ]
    }
   ],
   "source": [
    "mean = 205\n",
    "rataan = df['Hardness'].mean()\n",
    "std = df['Hardness'].std()\n",
    "n = df['Hardness'].count()\n",
    "\n",
    "print(\"Nilai t : \" + str(zvalue(rataan, mean, std, n)))\n",
    "print(\"Nilai t-alpha : \" + str(ptoz(0.975)))"
   ]
  },
  {
   "cell_type": "markdown",
   "metadata": {},
   "source": [
    "## C) Nilai Rata-rata 100 baris pertama kolom Solids bukan 21900  \n",
    "1. Tentukan hipotesis nol \n",
    "\n",
    "      $H_0$ : $\\mu$ = 21900\n",
    "      \n",
    "2. Tentukan hipotesis alternatif\n",
    "\n",
    "      $H_1$ : $p$ $\\neq$ 21900\n",
    "    \n",
    "3. Tentukan tingkat signifikan \n",
    "    \n",
    "      $\\alpha$ = 0.05\n",
    "    \n",
    "4. Tentukan uji statistik yang sesuai dan tentukan daerah kritis.\n",
    "\n",
    "      Uji statistik : Two-Tailed Test\n",
    "      \n",
    "      Daerah kritis : z > $z_{\\alpha/2}$ or z < -$z_{\\alpha/2}$ \n",
    "                    : z > 1.96 or z < -1.96\n",
    "\n",
    "5. Hitung nilai uji statistik\n",
    "6. z < $z_{\\alpha/2}$, maka tolak hipotesis null. Jadi rata-rata 100 baris pertama kolom solids bukan 21900."
   ]
  },
  {
   "cell_type": "code",
   "execution_count": 18,
   "metadata": {},
   "outputs": [
    {
     "name": "stdout",
     "output_type": "stream",
     "text": [
      "Nilai t : 0.5636797715721551\n",
      "Nilai t-alpha : 1.959963984540054\n"
     ]
    }
   ],
   "source": [
    "sampel = df['Solids'].head(100)\n",
    "mean = 21900\n",
    "rataan = sampel.mean()\n",
    "std = sampel.std()\n",
    "n = sampel.count()\n",
    "\n",
    "print(\"Nilai t : \" + str(zvalue(rataan, mean, std, n)))\n",
    "print(\"Nilai t-alpha : \" + str(ptoz(0.975)))"
   ]
  },
  {
   "cell_type": "markdown",
   "metadata": {},
   "source": [
    "## D) Proporsi nilai Conductivity yang lebih dari 450, adalah tidak sama dengan 10%\n",
    "1. Tentukan hipotesis nol \n",
    "\n",
    "      $H_0$ : $p$ = 0.1\n",
    "      \n",
    "2. Tentukan hipotesis alternatif\n",
    "\n",
    "      $H_1$ : $p$ $\\neq$ 0.1\n",
    "    \n",
    "3. Tentukan tingkat signifikan \n",
    "    \n",
    "      $\\alpha$ = 0.05\n",
    "    \n",
    "4. Tentukan uji statistik yang sesuai dan tentukan daerah kritis.\n",
    "\n",
    "      Uji statistik : Uji Variabel Binomial X dengan p = p0\n",
    "      \n",
    "      Daerah kritis : z > $z_{\\alpha/2}$ or z < -$z_{\\alpha/2}$ \n",
    "                    : z > 1.96 or z < -1.96\n",
    "\n",
    "5. Hitung nilai uji statistik"
   ]
  },
  {
   "cell_type": "code",
   "execution_count": 19,
   "metadata": {},
   "outputs": [
    {
     "name": "stdout",
     "output_type": "stream",
     "text": [
      "Nilai t : 40.44637613158932\n",
      "Nilai talpha : 1.959963984540054\n"
     ]
    }
   ],
   "source": [
    "sampel = df['Conductivity'].loc[df['Conductivity'] > 450]\n",
    "p0 = 0.1\n",
    "q0 = 1 - p0\n",
    "talpha = ptoz(0.975)\n",
    "n_sampel = sampel.count()\n",
    "n = df['Conductivity'].count()\n",
    "p1 = n_sampel / n\n",
    "\n",
    "z = (p1-p0) / math.sqrt(p0*q0/n)\n",
    "\n",
    "print(\"Nilai t : \" + str(z))\n",
    "print(\"Nilai talpha : \" + str(talpha))"
   ]
  },
  {
   "cell_type": "markdown",
   "metadata": {},
   "source": [
    "## E) Proporsi nilai Trihalomethanes yang kurang dari 40, adalah kurang dari 5%?\n",
    "    \n",
    "1. Tentukan hipotesis nol \n",
    "\n",
    "      $H_0$ : $p$ = 0.05\n",
    "      \n",
    "2. Tentukan hipotesis alternatif\n",
    "\n",
    "      $H_1$ : $p$ < 0.05 (one-tailed test)\n",
    "    \n",
    "3. Tentukan tingkat signifikan \n",
    "    \n",
    "      $\\alpha$ = 0.05\n",
    "    \n",
    "4. Tentukan uji statistik yang sesuai dan tentukan daerah kritis.\n",
    "\n",
    "      Uji statistik : Uji Variabel Binomial X dengan p = p0\n",
    "\n",
    "      Daerah kritis : z < -$z_\\alpha$ : z < -1.645\n",
    "\n",
    "5. Hitung nilai uji statistik"
   ]
  },
  {
   "cell_type": "code",
   "execution_count": 20,
   "metadata": {},
   "outputs": [
    {
     "name": "stdout",
     "output_type": "stream",
     "text": [
      "Nilai t : 0.5628826416670951\n",
      "Nilai talpha : 1.6448536269514722\n"
     ]
    }
   ],
   "source": [
    "sampel = df['Trihalomethanes'].loc[df['Trihalomethanes'] < 40]\n",
    "p0 = 0.05\n",
    "q0 = 1 - p0\n",
    "talpha = ptoz(0.95)\n",
    "n_sampel = sampel.count()\n",
    "n = df['Trihalomethanes'].count()\n",
    "p1 = n_sampel / n\n",
    "\n",
    "z = (p1-p0) / math.sqrt(p0*q0/n)\n",
    "\n",
    "print(\"Nilai t : \" + str(z))\n",
    "print(\"Nilai talpha : \" + str(talpha))"
   ]
  }
 ],
 "metadata": {
  "interpreter": {
   "hash": "56ae35c9d73059d1586df60f2c8d27c5282ae80d63a192bd598e70bb440edf42"
  },
  "kernelspec": {
   "display_name": "Python 3.9.6 64-bit",
   "language": "python",
   "name": "python3"
  },
  "language_info": {
   "codemirror_mode": {
    "name": "ipython",
    "version": 3
   },
   "file_extension": ".py",
   "mimetype": "text/x-python",
   "name": "python",
   "nbconvert_exporter": "python",
   "pygments_lexer": "ipython3",
   "version": "3.9.6"
  },
  "orig_nbformat": 4
 },
 "nbformat": 4,
 "nbformat_minor": 2
}
