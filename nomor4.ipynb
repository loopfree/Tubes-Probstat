{
 "cells": [
  {
   "cell_type": "code",
   "execution_count": 2,
   "metadata": {},
   "outputs": [],
   "source": [
    "# mengimport library pandas\n",
    "import pandas as pd\n",
    "import scipy.stats as s\n",
    "import math\n",
    "# membaca file csv\n",
    "df = pd.read_csv(\"water_potability.csv\",\n",
    "        names = [\"id\", \"pH\", \"Hardness\", \"Solids\", \"Chloramines\", \"Sulfate\", \"Conductivity\", \"OrganicCarbon\", \"Trihalomethanes\",\n",
    "                \"Turbidity\", \"Potability\"])\n",
    "\n",
    "def tvalue(x, mean, std, n):\n",
    "        return (x-mean)*math.sqrt(n)/std\n",
    "\n",
    "def binomial(p1,p0, n):\n",
    "        q0 = 1 - p0\n",
    "        return(p1-p0) / math.sqrt(p0*q0/n)"
   ]
  },
  {
   "cell_type": "markdown",
   "metadata": {},
   "source": [
    "# Nomor 4 Test Hipotesis Sampel 1\n",
    "## A) Nilai Rata-rata pH di atas 7 \n",
    "1. Tentukan hipotesis nol \n",
    "\n",
    "      $H_0$ : $\\mu$ = 7\n",
    "      \n",
    "2. Tentukan hipotesis alternatif\n",
    "\n",
    "      $H_1$ : $\\mu$ > 7\n",
    "    \n",
    "3. Tentukan tingkat signifikan \n",
    "    \n",
    "      $\\alpha$ = 0.05\n",
    "    \n",
    "4. Tentukan uji statistik yang sesuai dan tentukan daerah kritis.\n",
    "\n",
    "      Uji statistik : Mean Test with variance unknown\n",
    "      \n",
    "      Daerah kritis : t > $t_{\\alpha}$  :   t > 1.645\n",
    "\n",
    "5. Hitung nilai uji statistik\n",
    "6. t > $t_{\\alpha}$, maka tolak hipotesis null. Jadi rata-rata pH di atas 7."
   ]
  },
  {
   "cell_type": "code",
   "execution_count": 13,
   "metadata": {},
   "outputs": [
    {
     "name": "stdout",
     "output_type": "stream",
     "text": [
      "Nilai t : 2.485445147379887\n",
      "Nilai t-alpha : 1.6456124504017113\n",
      "\n",
      "Nilai P-value : 0.006469476288896462\n",
      "H0 ditolak\n"
     ]
    }
   ],
   "source": [
    "mean = 7\n",
    "rataan = df['pH'].mean()\n",
    "std = df['pH'].std()\n",
    "n = df['pH'].count()\n",
    "\n",
    "print(\"Nilai t : \" +str(tvalue(rataan, mean, std, n)))\n",
    "print(\"Nilai t-alpha : \" +str(s.t.ppf(0.95, n - 1)))\n",
    "\n",
    "pValue = s.norm.sf(abs(tvalue(rataan, mean, std, n)))\n",
    "print(\"\\nNilai P-value :\" , pValue)\n",
    "if (pValue > 0.05) :\n",
    "    print(\"H0 gagal ditolak\")\n",
    "else :\n",
    "    print(\"H0 ditolak\")"
   ]
  },
  {
   "cell_type": "markdown",
   "metadata": {},
   "source": [
    "## B) Nilai Rata-rata Hardness tidak saama dengan 205\n",
    "1. Tentukan hipotesis nol \n",
    "\n",
    "      $H_0$ : $\\mu$ = 205\n",
    "      \n",
    "2. Tentukan hipotesis alternatif\n",
    "\n",
    "      $H_1$ : $\\mu$ $\\neq$ 205\n",
    "    \n",
    "3. Tentukan tingkat signifikan \n",
    "    \n",
    "      $\\alpha$ = 0.05\n",
    "    \n",
    "4. Tentukan uji statistik yang sesuai dan tentukan daerah kritis.\n",
    "\n",
    "      Uji statistik : Two-Tailed Test\n",
    "      \n",
    "      Daerah kritis : t > $t_{\\alpha/2}$ or t < -$t_{\\alpha/2}$ \n",
    "      \n",
    "                  : t > 1.96 or t < -1.96\n",
    "\n",
    "5. Hitung nilai uji statistik\n",
    "6. t < -$t_{\\alpha/2}$, maka tolak hipotesis null. Jadi rata-rata Hardness tidak sama dengan 205."
   ]
  },
  {
   "cell_type": "code",
   "execution_count": 15,
   "metadata": {},
   "outputs": [
    {
     "name": "stdout",
     "output_type": "stream",
     "text": [
      "Nilai t : -12.403137170010732\n",
      "Nilai t-alpha : 1.9611455060885261\n",
      "\n",
      "Nilai P-value : 1.2564452447572327e-35\n",
      "H0 ditolak\n"
     ]
    }
   ],
   "source": [
    "mean = 205\n",
    "rataan = df['Hardness'].mean()\n",
    "std = df['Hardness'].std()\n",
    "n = df['Hardness'].count()\n",
    "\n",
    "print(\"Nilai t : \" + str(tvalue(rataan, mean, std, n)))\n",
    "print(\"Nilai t-alpha : \" + str(s.t.ppf(0.975, n - 1)))\n",
    "\n",
    "pValue = s.norm.sf(abs(tvalue(rataan, mean, std, n)))\n",
    "print(\"\\nNilai P-value :\" , pValue)\n",
    "if (pValue > 0.05) :\n",
    "    print(\"H0 gagal ditolak\")\n",
    "else :\n",
    "    print(\"H0 ditolak\")"
   ]
  },
  {
   "cell_type": "markdown",
   "metadata": {},
   "source": [
    "## C) Nilai Rata-rata 100 baris pertama kolom Solids bukan 21900  \n",
    "1. Tentukan hipotesis nol \n",
    "\n",
    "      $H_0$ : $\\mu$ = 21900\n",
    "      \n",
    "2. Tentukan hipotesis alternatif\n",
    "\n",
    "      $H_1$ : $\\mu$ $\\neq$ 21900\n",
    "    \n",
    "3. Tentukan tingkat signifikan \n",
    "    \n",
    "      $\\alpha$ = 0.05\n",
    "    \n",
    "4. Tentukan uji statistik yang sesuai dan tentukan daerah kritis.\n",
    "\n",
    "      Uji statistik : Two-Tailed Test\n",
    "      \n",
    "      Daerah kritis : t > $t_{\\alpha/2}$ or t < -$t_{\\alpha/2}$ \n",
    "                    : t > 1.98 or t < -1.98\n",
    "\n",
    "5. Hitung nilai uji statistik\n",
    "6. t tidak berada pada daerah kritis. Hipotesis nol gagal ditolak sehingga tidak cukup bukti untuk menyimpulkan bahwa rata-rata 100 baris pertama kolom Solids bukan 21900."
   ]
  },
  {
   "cell_type": "code",
   "execution_count": 16,
   "metadata": {},
   "outputs": [
    {
     "name": "stdout",
     "output_type": "stream",
     "text": [
      "Nilai t : 0.5636797715721551\n",
      "Nilai t-alpha : 1.9842169515086827\n",
      "\n",
      "Nilai P-value : 0.2864860432327587\n",
      "H0 gagal ditolak\n"
     ]
    }
   ],
   "source": [
    "sampel = df['Solids'].head(100)\n",
    "mean = 21900\n",
    "rataan = sampel.mean()\n",
    "std = sampel.std()\n",
    "n = sampel.size\n",
    "\n",
    "print(\"Nilai t : \" + str(tvalue(rataan, mean, std, n)))\n",
    "print(\"Nilai t-alpha : \" + str(s.t.ppf(0.975, n - 1)))\n",
    "\n",
    "pValue = s.norm.sf(abs(tvalue(rataan, mean, std, n)))\n",
    "print(\"\\nNilai P-value :\" , pValue)\n",
    "if (pValue > 0.05) :\n",
    "    print(\"H0 gagal ditolak\")\n",
    "else :\n",
    "    print(\"H0 ditolak\")"
   ]
  },
  {
   "cell_type": "markdown",
   "metadata": {},
   "source": [
    "## D) Proporsi nilai Conductivity yang lebih dari 450, adalah tidak sama dengan 10%\n",
    "1. Tentukan hipotesis nol \n",
    "\n",
    "      $H_0$ : $p$ = 0.1\n",
    "      \n",
    "2. Tentukan hipotesis alternatif\n",
    "\n",
    "      $H_1$ : $p$ $\\neq$ 0.1\n",
    "    \n",
    "3. Tentukan tingkat signifikan \n",
    "    \n",
    "      $\\alpha$ = 0.05\n",
    "    \n",
    "4. Tentukan uji statistik yang sesuai dan tentukan daerah kritis.\n",
    "\n",
    "      Uji statistik : Uji Variabel Binomial X dengan p = p0\n",
    "      \n",
    "      Daerah kritis : z > $z_{\\alpha/2}$ or z < -$z_{\\alpha/2}$ \n",
    "                    : z > 1.96 or z < -1.96\n",
    "\n",
    "5. z > $z_{\\alpha/2}$. Hipotesis nol ditolak sehingga **Proporsi nilai Conductivity yang lebih dari 450, adalah tidak sama dengan 10%**."
   ]
  },
  {
   "cell_type": "code",
   "execution_count": 18,
   "metadata": {},
   "outputs": [
    {
     "name": "stdout",
     "output_type": "stream",
     "text": [
      "Nilai z : 40.44637613158932\n",
      "Nilai zalpha : 1.959963984540054\n",
      "\n",
      "Nilai P-value : 0.0\n",
      "H0 ditolak\n"
     ]
    }
   ],
   "source": [
    "sampel = df['Conductivity'].loc[df['Conductivity'] > 450]\n",
    "p0 = 0.1\n",
    "q0 = 1 - p0\n",
    "n_sampel = sampel.size\n",
    "n = df['Conductivity'].size\n",
    "p1 = n_sampel / n\n",
    "\n",
    "z = (p1-p0) / math.sqrt(p0*q0/n)\n",
    "zalpha = s.norm.ppf(0.975)\n",
    "print(\"Nilai z : \" + str(z))\n",
    "print(\"Nilai zalpha : \" + str(zalpha))\n",
    "\n",
    "pValue = s.norm.sf(abs(z))\n",
    "print(\"\\nNilai P-value :\" , pValue)\n",
    "if (pValue > 0.05) :\n",
    "    print(\"H0 gagal ditolak\")\n",
    "else :\n",
    "    print(\"H0 ditolak\")"
   ]
  },
  {
   "cell_type": "markdown",
   "metadata": {},
   "source": [
    "## E) Proporsi nilai Trihalomethanes yang kurang dari 40, adalah kurang dari 5%?\n",
    "    \n",
    "1. Tentukan hipotesis nol \n",
    "\n",
    "      $H_0$ : $p$ = 0.05\n",
    "      \n",
    "2. Tentukan hipotesis alternatif\n",
    "\n",
    "      $H_1$ : $p$ < 0.05 (one-tailed test)\n",
    "    \n",
    "3. Tentukan tingkat signifikan \n",
    "    \n",
    "      $\\alpha$ = 0.05\n",
    "    \n",
    "4. Tentukan uji statistik yang sesuai dan tentukan daerah kritis.\n",
    "\n",
    "      Uji statistik : Uji Variabel Binomial X dengan p = p0\n",
    "\n",
    "      Daerah kritis : z < -$z_\\alpha$ : z < -1.645\n",
    "\n",
    "5. Hitung nilai uji statistik\n",
    "6. z tidak berada pada daerah kritis. Hipotesis nol gagal ditolak sehingga tidak cukup bukti untuk menyimpulkan bahwa Proporsi nilai Trihalomethanes yang kurang dari 40, adalah kurang dari 5%"
   ]
  },
  {
   "cell_type": "code",
   "execution_count": 19,
   "metadata": {},
   "outputs": [
    {
     "name": "stdout",
     "output_type": "stream",
     "text": [
      "Nilai z : 0.5628826416670951\n",
      "Nilai zalpha : 1.6448536269514722\n",
      "\n",
      "Nilai P-value : 0.286757400490763\n",
      "H0 gagal ditolak\n"
     ]
    }
   ],
   "source": [
    "sampel = df['Trihalomethanes'].loc[df['Trihalomethanes'] < 40]\n",
    "p0 = 0.05\n",
    "q0 = 1 - p0\n",
    "n_sampel = sampel.size\n",
    "n = df['Trihalomethanes'].size\n",
    "zalpha = s.norm.ppf(0.95)\n",
    "p1 = n_sampel / n\n",
    "\n",
    "z = (p1-p0) / math.sqrt(p0*q0/n)\n",
    "\n",
    "print(\"Nilai z : \" + str(z))\n",
    "print(\"Nilai zalpha : \" + str(zalpha))\n",
    "\n",
    "pValue = s.norm.sf(abs(z))\n",
    "print(\"\\nNilai P-value :\" , pValue)\n",
    "if (pValue > 0.05) :\n",
    "    print(\"H0 gagal ditolak\")\n",
    "else :\n",
    "    print(\"H0 ditolak\")"
   ]
  }
 ],
 "metadata": {
  "interpreter": {
   "hash": "56ae35c9d73059d1586df60f2c8d27c5282ae80d63a192bd598e70bb440edf42"
  },
  "kernelspec": {
   "display_name": "Python 3.9.6 64-bit",
   "language": "python",
   "name": "python3"
  },
  "language_info": {
   "codemirror_mode": {
    "name": "ipython",
    "version": 3
   },
   "file_extension": ".py",
   "mimetype": "text/x-python",
   "name": "python",
   "nbconvert_exporter": "python",
   "pygments_lexer": "ipython3",
   "version": "3.9.6"
  },
  "orig_nbformat": 4
 },
 "nbformat": 4,
 "nbformat_minor": 2
}
