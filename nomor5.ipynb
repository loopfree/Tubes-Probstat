{
 "cells": [
  {
   "cell_type": "code",
   "execution_count": 1,
   "metadata": {},
   "outputs": [],
   "source": [
    "# mengimport library pandas\n",
    "import pandas as pd\n",
    "import scipy.stats as s\n",
    "import matplotlib.pyplot as plt\n",
    "import math\n",
    "# membaca file csv\n",
    "df = pd.read_csv(\"water_potability.csv\",\n",
    "        names = [\"id\", \"pH\", \"Hardness\", \"Solids\", \"Chloramines\", \"Sulfate\", \"Conductivity\", \"OrganicCarbon\", \"Trihalomethanes\",\n",
    "                \"Turbidity\", \"Potability\"])\n",
    "                \n",
    "def tvalue_twomean(d0, x1, x2, s1, s2, n1, n2):\n",
    "        \n",
    "        sp =  math.sqrt( ( (n1-1)*s1*s1  + (n2-1)*s2*s2) / (n1+n2-2))\n",
    "        return((x1 - x2) - d0)/(sp*math.sqrt((1/n1) + (1/n2))) "
   ]
  },
  {
   "cell_type": "markdown",
   "metadata": {},
   "source": [
    "# Nomor 5 Test Hipotesis Sampel 2\n",
    "## A) Data kolom Sulfate dibagi 2 sama rata: bagian awal dan bagian akhir kolom. Benarkah rata-rata kedua bagian tersebut sama?\n",
    "1. Tentukan hipotesis nol \n",
    "\n",
    "      $H_0$ : $\\mu_1$ = $\\mu_2$ \n",
    "\n",
    "2. Tentukan hipotesis alternatif\n",
    "\n",
    "      $H_1$ : $\\mu_1$ $\\neq$ $\\mu_2$ \n",
    "    \n",
    "3. Tentukan tingkat signifikan \n",
    "    \n",
    "      $\\alpha$ = 0.05\n",
    "    \n",
    "4. Tentukan uji statistik yang sesuai dan tentukan daerah kritis.\n",
    "\n",
    "      Uji statistik : Two Sample Two-Tailed Mean Test\n",
    "\n",
    "      Daerah kritis : t < -$t_{\\alpha/2}$ or t > $t_{\\alpha/2}$ : t < -1.96 or t > 1.96\n",
    "\n",
    "5. Hitung nilai uji statistik\n",
    "6. Nilai t < -1.96, maka tolak hipotesis null. Jadi **rata-rata kedua bagian tidak sama**"
   ]
  },
  {
   "cell_type": "code",
   "execution_count": 7,
   "metadata": {},
   "outputs": [
    {
     "name": "stdout",
     "output_type": "stream",
     "text": [
      "Nilai t : -2.0752690696871983\n",
      "Nilai t(alpha/2) : 1.9611455060885261\n",
      "Nilai P-value : 0.0379616043851286\n",
      "H0 ditolak\n"
     ]
    },
    {
     "data": {
      "text/plain": [
       "Text(0.5, 1.0, 'Bagian Akhir')"
      ]
     },
     "execution_count": 7,
     "metadata": {},
     "output_type": "execute_result"
    },
    {
     "data": {
      "image/png": "[encoded data removed]",
      "text/plain": [
       "<Figure size 432x288 with 2 Axes>"
      ]
     },
     "metadata": {
      "needs_background": "light"
     },
     "output_type": "display_data"
    }
   ],
   "source": [
    "sampel = df['Sulfate']\n",
    "\n",
    "d0 = 0\n",
    "\n",
    "talpha = s.t.ppf(0.975, sampel.size - 1)\n",
    "bagian1 = sampel.head(sampel.size // 2)\n",
    "bagian2 = sampel.tail(sampel.size // 2)\n",
    "\n",
    "mean1 = bagian1.mean()\n",
    "mean2 = bagian2.mean()\n",
    "\n",
    "std1 = bagian1.std()\n",
    "std2 = bagian2.std()\n",
    "t = tvalue_twomean(d0, mean1, mean2, std1, std2, bagian1.size, bagian2.size)\n",
    "\n",
    "print(\"Nilai t : \" + str(t))\n",
    "print(\"Nilai t(alpha/2) : \" + str(talpha))\n",
    "pValue = 2*s.norm.sf(abs(t))\n",
    "print(\"Nilai P-value :\" , pValue)\n",
    "if (pValue > 0.05) :\n",
    "    print(\"H0 gagal ditolak\")\n",
    "else :\n",
    "    print(\"H0 ditolak\")\n",
    "\n",
    "plt.subplots_adjust(left=2, right=4, wspace=0.5)\n",
    "plt.subplot(121)\n",
    "df.head(1005).boxplot(\"Sulfate\").set_title(\"Bagian Awal\")\n",
    "plt.subplot(122)\n",
    "df.tail(1005).boxplot(\"Sulfate\").set_title(\"Bagian Akhir\")"
   ]
  },
  {
   "cell_type": "markdown",
   "metadata": {},
   "source": [
    "## B) Data kolom OrganicCarbon dibagi 2 sama rata: bagian awal dan bagian akhir kolom. Benarkah rata-rata bagian awal lebih besar dari pada bagian akhir sebesar 0.15?\n",
    "1. Tentukan hipotesis nol \n",
    "\n",
    "      $H_0$ : $\\mu_1$ - $\\mu_2$ = 0.15\n",
    "\n",
    "2. Tentukan hipotesis alternatif\n",
    "\n",
    "      $H_1$ : $\\mu_1$ - $\\mu_2$ $\\neq$ 0.15 \n",
    "    \n",
    "3. Tentukan tingkat signifikan \n",
    "    \n",
    "      $\\alpha$ = 0.05\n",
    "    \n",
    "4. Tentukan uji statistik yang sesuai dan tentukan daerah kritis.\n",
    "\n",
    "      Uji statistik : Two Sample Two-Tailed Mean Test\n",
    "\n",
    "      Daerah kritis : t < -$t_{\\alpha/2}$ or t > $t_{\\alpha/2}$ : t < -1.96 or t > 1.96\n",
    "\n",
    "5. Hitung nilai uji statistik\n",
    "6. Nilai t < -1.96, maka tolak hipotesis null. Jadi **rata-rata bagian awal tidak lebih besar dari bagian akhir sebesar 0.15**"
   ]
  },
  {
   "cell_type": "code",
   "execution_count": 8,
   "metadata": {},
   "outputs": [
    {
     "name": "stdout",
     "output_type": "stream",
     "text": [
      "Nilai t : -2.413145517798807\n",
      "Nilai t(alpha/2) : 1.9611455060885261\n",
      "Nilai P-value : 0.01581550381760006\n",
      "H0 ditolak\n"
     ]
    },
    {
     "data": {
      "text/plain": [
       "Text(0.5, 1.0, 'Bagian Akhir')"
      ]
     },
     "execution_count": 8,
     "metadata": {},
     "output_type": "execute_result"
    },
    {
     "data": {
      "image/png": "[encoded data removed]",
      "text/plain": [
       "<Figure size 432x288 with 2 Axes>"
      ]
     },
     "metadata": {
      "needs_background": "light"
     },
     "output_type": "display_data"
    }
   ],
   "source": [
    "sampel = df['OrganicCarbon']\n",
    "\n",
    "d0 = 0.15\n",
    "\n",
    "talpha = s.t.ppf(0.975, sampel.size - 1)\n",
    "bagian1 = sampel.head(sampel.size // 2)\n",
    "bagian2 = sampel.tail(sampel.size // 2)\n",
    "\n",
    "mean1 = bagian1.mean()\n",
    "mean2 = bagian2.mean()\n",
    "\n",
    "std1 = bagian1.std()\n",
    "std2 = bagian2.std()\n",
    "t = tvalue_twomean(d0, mean1, mean2, std1, std2, bagian1.size, bagian2.size)\n",
    "\n",
    "print(\"Nilai t : \" + str(t))\n",
    "print(\"Nilai t(alpha/2) : \" + str(talpha))\n",
    "pValue = 2*s.norm.sf(abs(t))\n",
    "print(\"Nilai P-value :\" , pValue)\n",
    "if (pValue > 0.05) :\n",
    "    print(\"H0 gagal ditolak\")\n",
    "else :\n",
    "    print(\"H0 ditolak\")\n",
    "\n",
    "plt.subplots_adjust(left=2, right=4, wspace=0.5)\n",
    "plt.subplot(121)\n",
    "df.head(1005).boxplot(\"OrganicCarbon\").set_title(\"Bagian Awal\")\n",
    "plt.subplot(122)\n",
    "df.tail(1005).boxplot(\"OrganicCarbon\").set_title(\"Bagian Akhir\")"
   ]
  },
  {
   "cell_type": "markdown",
   "metadata": {},
   "source": [
    "## C) Rata-rata 100 baris pertama kolom Chloramines sama dengan 100 baris terakhirnya?\n",
    "1. Tentukan hipotesis nol \n",
    "\n",
    "      $H_0$ : $\\mu_1$ - $\\mu_2$ = 0\n",
    "\n",
    "2. Tentukan hipotesis alternatif\n",
    "\n",
    "      $H_1$ : $\\mu_1$  $\\neq$ $\\mu_2$  \n",
    "    \n",
    "3. Tentukan tingkat signifikan \n",
    "    \n",
    "      $\\alpha$ = 0.05\n",
    "    \n",
    "4. Tentukan uji statistik yang sesuai dan tentukan daerah kritis.\n",
    "\n",
    "      Uji statistik : Two Sample Two-Tailed Mean Test\n",
    "\n",
    "      Daerah kritis : t < -$t_{\\alpha/2}$ or t > $t_{\\alpha/2}$ : t < -1.96 or t > 1.96\n",
    "\n",
    "5. Hitung nilai uji statistik\n",
    "6. Nilai t tidak berada pada daerah kritis. **Hipotesis nol gagal ditolak sehingga tidak cukup bukti untuk menyimpulkan bahwa Rata-rata 100 baris pertama kolom Chloramines sama dengan 100 baris terakhirnya**"
   ]
  },
  {
   "cell_type": "code",
   "execution_count": 10,
   "metadata": {},
   "outputs": [
    {
     "name": "stdout",
     "output_type": "stream",
     "text": [
      "Nilai t : -0.7059424842236872\n",
      "Nilai t(alpha/2) : 1.9611455060885261\n",
      "Nilai P-value : 0.48022390604502796\n",
      "H0 gagal ditolak\n"
     ]
    },
    {
     "data": {
      "text/plain": [
       "Text(0.5, 1.0, 'Bagian Akhir')"
      ]
     },
     "execution_count": 10,
     "metadata": {},
     "output_type": "execute_result"
    },
    {
     "data": {
      "image/png": "[encoded data removed]",
      "text/plain": [
       "<Figure size 432x288 with 2 Axes>"
      ]
     },
     "metadata": {
      "needs_background": "light"
     },
     "output_type": "display_data"
    }
   ],
   "source": [
    "sampel = df['Chloramines']\n",
    "\n",
    "d0 = 0\n",
    "\n",
    "talpha = s.t.ppf(0.975, sampel.size - 1)\n",
    "bagian1 = sampel.head(100)\n",
    "bagian2 = sampel.tail(100)\n",
    "\n",
    "mean1 = bagian1.mean()\n",
    "mean2 = bagian2.mean()\n",
    "\n",
    "std1 = bagian1.std()\n",
    "std2 = bagian2.std()\n",
    "t = tvalue_twomean(d0, mean1, mean2, std1, std2, bagian1.size, bagian2.size)\n",
    "\n",
    "print(\"Nilai t : \" + str(t))\n",
    "print(\"Nilai t(alpha/2) : \" + str(talpha))\n",
    "pValue = 2*s.norm.sf(abs(t))\n",
    "print(\"Nilai P-value :\" , pValue)\n",
    "if (pValue > 0.05) :\n",
    "    print(\"H0 gagal ditolak\")\n",
    "else :\n",
    "    print(\"H0 ditolak\")\n",
    "\n",
    "plt.subplots_adjust(left=2, right=4, wspace=0.5)\n",
    "plt.subplot(121)\n",
    "df.head(100).boxplot(\"Chloramines\").set_title(\"Bagian Awal\")\n",
    "plt.subplot(122)\n",
    "df.tail(100).boxplot(\"Chloramines\").set_title(\"Bagian Akhir\")"
   ]
  },
  {
   "cell_type": "markdown",
   "metadata": {},
   "source": [
    "## D) Proporsi nilai bagian awal Turbidity yang lebih dari 4, adalah lebih besar daripada, proporsi nilai yang sama di bagian akhir Turbidity?\n",
    "1. Tentukan hipotesis nol \n",
    "\n",
    "      $H_0$ : $p_1$ - $p_2$ = 0\n",
    "\n",
    "2. Tentukan hipotesis alternatif\n",
    "\n",
    "      $H_1$ : $p_1$ - $p_2$  > 0\n",
    "    \n",
    "3. Tentukan tingkat signifikan \n",
    "    \n",
    "      $\\alpha$ = 0.05\n",
    "    \n",
    "4. Tentukan uji statistik yang sesuai dan tentukan daerah kritis.\n",
    "\n",
    "      Uji statistik : Uji statistik satu parameter populasi pengujian proporsi dua sampel one-tailed tes normal\n",
    "\n",
    "      Daerah kritis :z > $z_{\\alpha}$ : z > 1.645\n",
    "\n",
    "5. Hitung nilai uji statistik\n",
    "6. Nilai z tidak berada pada daerah kritis. **Hipotesis nol gagal ditolak sehingga tidak cukup bukti untuk menyimpulkan bahwa Proporsi nilai bagian awal Turbidity yang lebih dari 4, adalah lebih besar daripada, proporsi nilai yang sama di bagian akhir Turbidity**\n"
   ]
  },
  {
   "cell_type": "code",
   "execution_count": 11,
   "metadata": {},
   "outputs": [
    {
     "name": "stdout",
     "output_type": "stream",
     "text": [
      "Nilai z : -0.13388958661778735\n",
      "Nilai z(alpha) : 1.6448536269514722\n",
      "Nilai P-value : 0.4467449424088169\n",
      "H0 gagal ditolak\n"
     ]
    },
    {
     "data": {
      "text/plain": [
       "Text(0.5, 1.0, 'Bagian Akhir')"
      ]
     },
     "execution_count": 11,
     "metadata": {},
     "output_type": "execute_result"
    },
    {
     "data": {
      "image/png": "[encoded data removed]",
      "text/plain": [
       "<Figure size 432x288 with 2 Axes>"
      ]
     },
     "metadata": {
      "needs_background": "light"
     },
     "output_type": "display_data"
    }
   ],
   "source": [
    "sampel = df['Turbidity']\n",
    "\n",
    "zalpha = s.norm.ppf(0.95)\n",
    "bagian1 = sampel.head(sampel.size // 2).loc[sampel > 4]\n",
    "bagian2 = sampel.tail(sampel.size // 2).loc[sampel > 4]\n",
    "\n",
    "p1 = bagian1.size/ (sampel.size //2)\n",
    "p2 = bagian2.size/ (sampel.size //2)\n",
    "\n",
    "p = (bagian1.size + bagian2.size) / sampel.size\n",
    "q = 1-p\n",
    "\n",
    "z = (p1 - p2) / (math.sqrt(p*q *( (1/(sampel.size//2)) + (1/(sampel.size//2))  )))\n",
    "\n",
    "print(\"Nilai z : \" + str(z))\n",
    "print(\"Nilai z(alpha) : \" + str(zalpha))\n",
    "\n",
    "pValue = s.norm.sf(abs(z))\n",
    "print(\"Nilai P-value :\" , pValue)\n",
    "if (pValue > 0.05) :\n",
    "    print(\"H0 gagal ditolak\")\n",
    "else :\n",
    "    print(\"H0 ditolak\")\n",
    "\n",
    "\n",
    "plt.subplots_adjust(left=2, right=4, wspace=0.5)\n",
    "plt.subplot(121)\n",
    "df.head(1005).boxplot(\"Turbidity\").set_title(\"Bagian Awal\")\n",
    "plt.subplot(122)\n",
    "df.tail(1005).boxplot(\"Turbidity\").set_title(\"Bagian Akhir\")"
   ]
  },
  {
   "cell_type": "markdown",
   "metadata": {},
   "source": [
    "## E) Bagian awal kolom Sulfate memiliki variansi yang sama dengan bagian akhirnya??\n",
    "1. Tentukan hipotesis nol \n",
    "\n",
    "      $H_0$ : $\\sigma^2_1$ = $\\sigma^2_2$ \n",
    "\n",
    "2. Tentukan hipotesis alternatif\n",
    "\n",
    "      $H_1$ : $\\sigma^2_1$ $\\neq$ $\\sigma^2_2$\n",
    "    \n",
    "3. Tentukan tingkat signifikan \n",
    "    \n",
    "      $\\alpha$ = 0.05\n",
    "    \n",
    "4. Tentukan uji statistik yang sesuai dan tentukan daerah kritis.\n",
    "\n",
    "      Uji statistik : Distribusi F\n",
    "\n",
    "      Daerah kritis : f < $f_{1-{\\alpha/2}(v1,v2)}$ or f > $f_{\\alpha/2(v1,v2)}$: f < 0.883 or f > 1.131\n",
    "\n",
    "5. Hitung nilai uji statistik\n",
    "6. Nilai z tidak berada pada daerah kritis, maka terima hipotesis null. **Hipotesis nol gagal ditolak sehingga tidak cukup bukti untuk menyimpulkan bahwa Bagian awal kolom Sulfate memiliki variansi yang sama dengan bagian akhirnya**\n"
   ]
  },
  {
   "cell_type": "code",
   "execution_count": 13,
   "metadata": {},
   "outputs": [
    {
     "name": "stdout",
     "output_type": "stream",
     "text": [
      "nilai f : 1.0075966972926254\n",
      "Nilai P-value : 0.5477067289575377\n",
      "H0 gagal ditolak\n"
     ]
    },
    {
     "data": {
      "text/plain": [
       "Text(0.5, 1.0, 'Bagian Akhir')"
      ]
     },
     "execution_count": 13,
     "metadata": {},
     "output_type": "execute_result"
    },
    {
     "data": {
      "image/png": "[encoded data removed]",
      "text/plain": [
       "<Figure size 432x288 with 2 Axes>"
      ]
     },
     "metadata": {
      "needs_background": "light"
     },
     "output_type": "display_data"
    }
   ],
   "source": [
    "sampel = df['Sulfate']\n",
    "\n",
    "zalpha = s.norm.ppf(0.95)\n",
    "bagian1 = sampel.head(sampel.size // 2)\n",
    "bagian2 = sampel.tail(sampel.size // 2)\n",
    "\n",
    "std1 = bagian1.std()\n",
    "std2 = bagian2.std()\n",
    "\n",
    "if std1 > std2 :\n",
    "    f = std1 / std2\n",
    "else:\n",
    "    f = std2 / std1\n",
    "\n",
    "f1 = s.f.ppf(1 - 0.025, bagian1.size - 1, bagian2.size - 1)\n",
    "f2 = s.f.ppf(0.025, bagian1.size - 1, bagian2.size - 1)\n",
    "print(\"nilai f : \" + str(f) )\n",
    "\n",
    "pValue = s.f.cdf(f, bagian1.size - 1, bagian2.size - 1)\n",
    "print(\"Nilai P-value :\" , pValue)\n",
    "if (pValue > 0.05) :\n",
    "    print(\"H0 gagal ditolak\")\n",
    "else :\n",
    "    print(\"H0 ditolak\")\n",
    "    \n",
    "plt.subplots_adjust(left=2, right=4, wspace=0.5)\n",
    "plt.subplot(121)\n",
    "df.head(1005).boxplot(\"Turbidity\").set_title(\"Bagian Awal\")\n",
    "plt.subplot(122)\n",
    "df.tail(1005).boxplot(\"Turbidity\").set_title(\"Bagian Akhir\")"
   ]
  },
  {
   "cell_type": "code",
   "execution_count": null,
   "metadata": {},
   "outputs": [],
   "source": []
  }
 ],
 "metadata": {
  "interpreter": {
   "hash": "56ae35c9d73059d1586df60f2c8d27c5282ae80d63a192bd598e70bb440edf42"
  },
  "kernelspec": {
   "display_name": "Python 3.9.6 64-bit",
   "language": "python",
   "name": "python3"
  },
  "language_info": {
   "codemirror_mode": {
    "name": "ipython",
    "version": 3
   },
   "file_extension": ".py",
   "mimetype": "text/x-python",
   "name": "python",
   "nbconvert_exporter": "python",
   "pygments_lexer": "ipython3",
   "version": "3.9.6"
  },
  "orig_nbformat": 4
 },
 "nbformat": 4,
 "nbformat_minor": 2
}
