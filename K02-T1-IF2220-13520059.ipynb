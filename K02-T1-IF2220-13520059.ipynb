{
 "cells": [
  {
   "cell_type": "markdown",
   "id": "6ee92679",
   "metadata": {},
   "source": [
    "<font size=\"5\"><center>Tugas Besar IF2220 Probabilitas dan Statistika</center></font>\n",
    "<br>\n",
    "<font size=\"4\"><center>Penarikan Kesimpulan dan Pengujian Hipotesis</center></font>\n",
    "<br>\n",
    "<font size=\"4\"><center>Suryanto - 13520059</center></font>\n",
    "<font size=\"4\"><center>&nbsp; Steven  &nbsp;- 13520131</center></font>"
   ]
  },
  {
   "cell_type": "code",
   "execution_count": 1,
   "id": "c06e1e25",
   "metadata": {},
   "outputs": [],
   "source": [
    "# mengimport library pandas\n",
    "import pandas as pd\n",
    "import matplotlib.pyplot as plt\n",
    "import scipy.stats as s\n",
    "import math\n",
    "import seaborn as sns\n",
    "import warnings\n",
    "warnings.simplefilter(action=\"ignore\", category=FutureWarning)\n",
    "\n",
    "# membaca file csv\n",
    "df = pd.read_csv(\"water_potability.csv\",\n",
    "        names = [\"id\", \"pH\", \"Hardness\", \"Solids\", \"Chloramines\", \"Sulfate\", \"Conductivity\", \"OrganicCarbon\", \"Trihalomethanes\",\n",
    "                \"Turbidity\", \"Potability\"])"
   ]
  },
  {
   "cell_type": "markdown",
   "id": "ea7ea495",
   "metadata": {},
   "source": [
    "<h2>1. Deskripsi Statistika (Descriptive Statistics)</h2>"
   ]
  },
  {
   "cell_type": "markdown",
   "id": "2a36f736",
   "metadata": {},
   "source": [
    "<h3> 1.1 Kolom pH </h3>"
   ]
  },
  {
   "cell_type": "code",
   "execution_count": 2,
   "id": "0606f823",
   "metadata": {},
   "outputs": [
    {
     "name": "stdout",
     "output_type": "stream",
     "text": [
      "=============================\n",
      "Deskripsi Statistika Kolom pH\n",
      "=============================\n",
      "Mean : 7.0871927687138285\n",
      "-----------------------------\n",
      "Median : 7.029490455474185\n",
      "-----------------------------\n",
      "Terdapat 2010 buah modus\n",
      "Salah satu modusnya adalah:\n",
      "0.2274990502021987\n",
      "Hal ini mengimplementasikan\n",
      "bahwa semua data pada\n",
      "kolom ini bersifat unik\n",
      "-----------------------------\n",
      "Stander deviasi : 1.5728029470456655\n",
      "-----------------------------\n",
      "Variansi : 2.4737091102355304\n",
      "-----------------------------\n",
      "Range : 13.7725009497978\n",
      "-----------------------------\n",
      "Minimum : 0.2274990502021987\n",
      "-----------------------------\n",
      "Maksimum : 13.999999999999998\n",
      "-----------------------------\n",
      "Kuartil bawah  : 6.09078502142353\n",
      "Kuartil tengah : 7.029490455474185\n",
      "Kuartil atas   : 8.053006240791538\n",
      "-----------------------------\n",
      "IQR : 1.9622212193680078\n",
      "-----------------------------\n",
      "Skewness : 0.04853451405270669\n",
      "-----------------------------\n",
      "Kurtosis:  0.6269041256617065\n",
      "-----------------------------\n"
     ]
    }
   ],
   "source": [
    "print(\"=============================\")\n",
    "print(\"Deskripsi Statistika Kolom pH\")\n",
    "print(\"=============================\")\n",
    "col_ph = df[\"pH\"]\n",
    "\n",
    "# mean\n",
    "print(\"Mean :\", col_ph.mean())\n",
    "print(\"-----------------------------\")\n",
    "\n",
    "# median\n",
    "print(\"Median :\", col_ph.median())\n",
    "print(\"-----------------------------\")\n",
    "\n",
    "# modus\n",
    "if (len(col_ph.mode()) != 2010):\n",
    "    print(\"Terdapat \"+ str(len(col_ph.mode())) + \" buah modus, yaitu:\")\n",
    "    for i in range (len(col_ph.mode()) - 1):\n",
    "        print(str(col_ph.mode()[i]) + \", \", end=\"\")\n",
    "    print(str(col_ph.mode()[len(col_ph.mode()) - 1]))\n",
    "else:\n",
    "    print(\"Terdapat 2010 buah modus\")\n",
    "    print(\"Salah satu modusnya adalah:\")\n",
    "    print(col_ph.mode()[0])\n",
    "    print(\"Hal ini mengimplementasikan\")\n",
    "    print(\"bahwa semua data pada\")\n",
    "    print(\"kolom ini bersifat unik\")\n",
    "print(\"-----------------------------\")\n",
    "\n",
    "# standar deviasi\n",
    "print(\"Stander deviasi :\", col_ph.std())\n",
    "print(\"-----------------------------\")\n",
    "\n",
    "# variansi\n",
    "print(\"Variansi :\", col_ph.var())\n",
    "print(\"-----------------------------\")\n",
    "\n",
    "# range\n",
    "range_data = col_ph.max() - col_ph.min()\n",
    "print(\"Range :\", range_data)\n",
    "print(\"-----------------------------\")\n",
    "\n",
    "# nilai minimum\n",
    "print(\"Minimum :\", col_ph.min())\n",
    "print(\"-----------------------------\")\n",
    "\n",
    "# maksimum\n",
    "print(\"Maksimum :\", col_ph.max())\n",
    "print(\"-----------------------------\")\n",
    "\n",
    "# kuartil\n",
    "print(\"Kuartil bawah  :\", col_ph.quantile(.25) )\n",
    "print(\"Kuartil tengah :\", col_ph.quantile(.50) )\n",
    "print(\"Kuartil atas   :\" , col_ph.quantile(.75) )\n",
    "print(\"-----------------------------\")\n",
    "\n",
    "# IQR\n",
    "iqr_data = col_ph.quantile(.75) - col_ph.quantile(.25)\n",
    "print(\"IQR :\", iqr_data)\n",
    "print(\"-----------------------------\")\n",
    "\n",
    "# skewness\n",
    "print(\"Skewness :\", col_ph.skew())\n",
    "print(\"-----------------------------\")\n",
    "\n",
    "# kurtosis\n",
    "print(\"Kurtosis: \", col_ph.kurtosis())\n",
    "print(\"-----------------------------\")"
   ]
  },
  {
   "cell_type": "markdown",
   "id": "6b0ad2cd",
   "metadata": {},
   "source": [
    "<h3>1.2 Kolom Hardness</h3>"
   ]
  },
  {
   "cell_type": "code",
   "execution_count": 3,
   "id": "31a32ff0",
   "metadata": {},
   "outputs": [
    {
     "name": "stdout",
     "output_type": "stream",
     "text": [
      "===================================\n",
      "Deskripsi Statistika Kolom Hardness\n",
      "===================================\n",
      "Mean : 195.96920903783524\n",
      "-----------------------------------\n",
      "Median : 197.20352491941043\n",
      "-----------------------------------\n",
      "Terdapat 2010 buah modus\n",
      "Salah satu modusnya adalah:\n",
      "0.2274990502021987\n",
      "Hal ini mengimplementasikan\n",
      "bahwa semua data pada\n",
      "kolom ini bersifat unik\n",
      "-----------------------------------\n",
      "Stander deviasi : 32.643165859429864\n",
      "-----------------------------------\n",
      "Variansi : 1065.5762773262472\n",
      "-----------------------------------\n",
      "Range : 243.84589036652147\n",
      "-----------------------------------\n",
      "Minimum : 73.4922336890611\n",
      "-----------------------------------\n",
      "Maksimum : 317.33812405558257\n",
      "-----------------------------------\n",
      "Kuartil bawah  : 176.74065667669896\n",
      "Kuartil tengah : 197.20352491941043\n",
      "Kuartil atas   : 216.44758866727156\n",
      "-----------------------------------\n",
      "IQR : 39.7069319905726\n",
      "-----------------------------------\n",
      "Skewness : -0.08532104172868622\n",
      "-----------------------------------\n",
      "Kurtosis:  0.5254804942991402\n",
      "-----------------------------------\n"
     ]
    }
   ],
   "source": [
    "print(\"===================================\")\n",
    "print(\"Deskripsi Statistika Kolom Hardness\")\n",
    "print(\"===================================\")\n",
    "col_hardness = df[\"Hardness\"]\n",
    "\n",
    "# mean\n",
    "print(\"Mean :\", col_hardness.mean())\n",
    "print(\"-----------------------------------\")\n",
    "\n",
    "# median\n",
    "print(\"Median :\", col_hardness.median())\n",
    "print(\"-----------------------------------\")\n",
    "\n",
    "# modus\n",
    "if (len(col_hardness.mode()) != 2010):\n",
    "    print(\"Terdapat \"+ str(len(col_hardness.mode())) + \" buah modus, yaitu:\")\n",
    "    for i in range (len(col_hardness.mode()) - 1):\n",
    "        print(str(col_hardness.mode()[i]) + \", \", end=\"\")\n",
    "    print(str(col_hardness.mode()[len(col_hardness.mode()) - 1]))\n",
    "else:\n",
    "    print(\"Terdapat 2010 buah modus\")\n",
    "    print(\"Salah satu modusnya adalah:\")\n",
    "    print(col_ph.mode()[0])\n",
    "    print(\"Hal ini mengimplementasikan\")\n",
    "    print(\"bahwa semua data pada\")\n",
    "    print(\"kolom ini bersifat unik\")\n",
    "print(\"-----------------------------------\")\n",
    "\n",
    "# standar deviasi\n",
    "print(\"Stander deviasi :\", col_hardness.std())\n",
    "print(\"-----------------------------------\")\n",
    "\n",
    "# variansi\n",
    "print(\"Variansi :\", col_hardness.var())\n",
    "print(\"-----------------------------------\")\n",
    "\n",
    "# range\n",
    "range_data = col_hardness.max() - col_hardness.min()\n",
    "print(\"Range :\", range_data)\n",
    "print(\"-----------------------------------\")\n",
    "\n",
    "# nilai minimum\n",
    "print(\"Minimum :\", col_hardness.min())\n",
    "print(\"-----------------------------------\")\n",
    "\n",
    "# maksimum\n",
    "print(\"Maksimum :\", col_hardness.max())\n",
    "print(\"-----------------------------------\")\n",
    "\n",
    "# kuartil\n",
    "print(\"Kuartil bawah  :\", col_hardness.quantile(.25) )\n",
    "print(\"Kuartil tengah :\", col_hardness.quantile(.50) )\n",
    "print(\"Kuartil atas   :\" , col_hardness.quantile(.75) )\n",
    "print(\"-----------------------------------\")\n",
    "\n",
    "# IQR\n",
    "iqr_data = col_hardness.quantile(.75) - col_hardness.quantile(.25)\n",
    "print(\"IQR :\", iqr_data)\n",
    "print(\"-----------------------------------\")\n",
    "\n",
    "# skewness\n",
    "print(\"Skewness :\", col_hardness.skew())\n",
    "print(\"-----------------------------------\")\n",
    "\n",
    "# kurtosis\n",
    "print(\"Kurtosis: \", col_hardness.kurtosis())\n",
    "print(\"-----------------------------------\")"
   ]
  },
  {
   "cell_type": "markdown",
   "id": "1cbd3c5b",
   "metadata": {},
   "source": [
    "<h3>1.3 Kolom Solids</h3>"
   ]
  },
  {
   "cell_type": "code",
   "execution_count": 4,
   "id": "7ab071af",
   "metadata": {},
   "outputs": [
    {
     "name": "stdout",
     "output_type": "stream",
     "text": [
      "=================================\n",
      "Deskripsi Statistika Kolom Solids\n",
      "=================================\n",
      "Mean : 21904.673439053095\n",
      "---------------------------------\n",
      "Median : 20926.88215534375\n",
      "---------------------------------\n",
      "Terdapat 2010 buah modus\n",
      "Salah satu modusnya adalah:\n",
      "0.2274990502021987\n",
      "Hal ini mengimplementasikan\n",
      "bahwa semua data pada\n",
      "kolom ini bersifat unik\n",
      "---------------------------------\n",
      "Stander deviasi : 8625.397911190576\n",
      "---------------------------------\n",
      "Variansi : 74397489.12637076\n",
      "---------------------------------\n",
      "Range : 56167.72980146483\n",
      "---------------------------------\n",
      "Minimum : 320.942611274359\n",
      "---------------------------------\n",
      "Maksimum : 56488.67241273919\n",
      "---------------------------------\n",
      "Kuartil bawah  : 15614.412961614333\n",
      "Kuartil tengah : 20926.88215534375\n",
      "Kuartil atas   : 27170.534648603603\n",
      "---------------------------------\n",
      "IQR : 11556.12168698927\n",
      "---------------------------------\n",
      "Skewness : 0.5910113724580447\n",
      "---------------------------------\n",
      "Kurtosis:  0.33732026745944976\n",
      "---------------------------------\n"
     ]
    }
   ],
   "source": [
    "print(\"=================================\")\n",
    "print(\"Deskripsi Statistika Kolom Solids\")\n",
    "print(\"=================================\")\n",
    "col_solids = df[\"Solids\"]\n",
    "\n",
    "# mean\n",
    "print(\"Mean :\", col_solids.mean())\n",
    "print(\"---------------------------------\")\n",
    "\n",
    "# median\n",
    "print(\"Median :\", col_solids.median())\n",
    "print(\"---------------------------------\")\n",
    "\n",
    "# modus\n",
    "if (len(col_solids.mode()) != 2010):\n",
    "    print(\"Terdapat \"+ str(len(col_solids.mode())) + \" buah modus, yaitu:\")\n",
    "    for i in range (len(col_solids.mode()) - 1):\n",
    "        print(str(col_solids.mode()[i]) + \", \", end=\"\")\n",
    "    print(str(col_solids.mode()[len(col_solids.mode()) - 1]))\n",
    "else:\n",
    "    print(\"Terdapat 2010 buah modus\")\n",
    "    print(\"Salah satu modusnya adalah:\")\n",
    "    print(col_ph.mode()[0])\n",
    "    print(\"Hal ini mengimplementasikan\")\n",
    "    print(\"bahwa semua data pada\")\n",
    "    print(\"kolom ini bersifat unik\")\n",
    "print(\"---------------------------------\")\n",
    "\n",
    "# standar deviasi\n",
    "print(\"Stander deviasi :\", col_solids.std())\n",
    "print(\"---------------------------------\")\n",
    "\n",
    "# variansi\n",
    "print(\"Variansi :\", col_solids.var())\n",
    "print(\"---------------------------------\")\n",
    "\n",
    "# range\n",
    "range_data = col_solids.max() - col_solids.min()\n",
    "print(\"Range :\", range_data)\n",
    "print(\"---------------------------------\")\n",
    "\n",
    "# nilai minimum\n",
    "print(\"Minimum :\", col_solids.min())\n",
    "print(\"---------------------------------\")\n",
    "\n",
    "# maksimum\n",
    "print(\"Maksimum :\", col_solids.max())\n",
    "print(\"---------------------------------\")\n",
    "\n",
    "# kuartil\n",
    "print(\"Kuartil bawah  :\", col_solids.quantile(.25) )\n",
    "print(\"Kuartil tengah :\", col_solids.quantile(.50) )\n",
    "print(\"Kuartil atas   :\" , col_solids.quantile(.75) )\n",
    "print(\"---------------------------------\")\n",
    "\n",
    "# IQR\n",
    "iqr_data = col_solids.quantile(.75) - col_solids.quantile(.25)\n",
    "print(\"IQR :\", iqr_data)\n",
    "print(\"---------------------------------\")\n",
    "\n",
    "# skewness\n",
    "print(\"Skewness :\", col_solids.skew())\n",
    "print(\"---------------------------------\")\n",
    "\n",
    "# kurtosis\n",
    "print(\"Kurtosis: \", col_solids.kurtosis())\n",
    "print(\"---------------------------------\")"
   ]
  },
  {
   "cell_type": "markdown",
   "id": "3f9479e7",
   "metadata": {},
   "source": [
    "<h3>1.4 Kolom Chloramines</h3>"
   ]
  },
  {
   "cell_type": "code",
   "execution_count": 5,
   "id": "72730936",
   "metadata": {},
   "outputs": [
    {
     "name": "stdout",
     "output_type": "stream",
     "text": [
      "======================================\n",
      "Deskripsi Statistika Kolom Chloramines\n",
      "======================================\n",
      "Mean : 7.134322344600104\n",
      "--------------------------------------\n",
      "Median : 7.1420143046226645\n",
      "--------------------------------------\n",
      "Terdapat 2010 buah modus\n",
      "Salah satu modusnya adalah:\n",
      "0.2274990502021987\n",
      "Hal ini mengimplementasikan\n",
      "bahwa semua data pada\n",
      "kolom ini bersifat unik\n",
      "--------------------------------------\n",
      "Stander deviasi : 1.5852140982642102\n",
      "--------------------------------------\n",
      "Variansi : 2.512903737335613\n",
      "--------------------------------------\n",
      "Range : 11.736129095114823\n",
      "--------------------------------------\n",
      "Minimum : 1.3908709048851806\n",
      "--------------------------------------\n",
      "Maksimum : 13.127000000000002\n",
      "--------------------------------------\n",
      "Kuartil bawah  : 6.138326387572855\n",
      "Kuartil tengah : 7.1420143046226645\n",
      "Kuartil atas   : 8.109933216133502\n",
      "--------------------------------------\n",
      "IQR : 1.9716068285606472\n",
      "--------------------------------------\n",
      "Skewness : 0.013003497779569528\n",
      "--------------------------------------\n",
      "Kurtosis:  0.5497821097667472\n",
      "--------------------------------------\n"
     ]
    }
   ],
   "source": [
    "print(\"======================================\")\n",
    "print(\"Deskripsi Statistika Kolom Chloramines\")\n",
    "print(\"======================================\")\n",
    "col_chloramines = df[\"Chloramines\"]\n",
    "\n",
    "# mean\n",
    "print(\"Mean :\", col_chloramines.mean())\n",
    "print(\"--------------------------------------\")\n",
    "\n",
    "# median\n",
    "print(\"Median :\", col_chloramines.median())\n",
    "print(\"--------------------------------------\")\n",
    "\n",
    "# modus\n",
    "if (len(col_chloramines.mode()) != 2010):\n",
    "    print(\"Terdapat \"+ str(len(col_chloramines.mode())) + \" buah modus, yaitu:\")\n",
    "    for i in range (len(col_chloramines.mode()) - 1):\n",
    "        print(str(col_chloramines.mode()[i]) + \", \", end=\"\")\n",
    "    print(str(col_chloramines.mode()[len(col_chloramines.mode()) - 1]))\n",
    "else:\n",
    "    print(\"Terdapat 2010 buah modus\")\n",
    "    print(\"Salah satu modusnya adalah:\")\n",
    "    print(col_ph.mode()[0])\n",
    "    print(\"Hal ini mengimplementasikan\")\n",
    "    print(\"bahwa semua data pada\")\n",
    "    print(\"kolom ini bersifat unik\")\n",
    "print(\"--------------------------------------\")\n",
    "\n",
    "# standar deviasi\n",
    "print(\"Stander deviasi :\", col_chloramines.std())\n",
    "print(\"--------------------------------------\")\n",
    "\n",
    "# variansi\n",
    "print(\"Variansi :\", col_chloramines.var())\n",
    "print(\"--------------------------------------\")\n",
    "\n",
    "# range\n",
    "range_data = col_chloramines.max() - col_chloramines.min()\n",
    "print(\"Range :\", range_data)\n",
    "print(\"--------------------------------------\")\n",
    "\n",
    "# nilai minimum\n",
    "print(\"Minimum :\", col_chloramines.min())\n",
    "print(\"--------------------------------------\")\n",
    "\n",
    "# maksimum\n",
    "print(\"Maksimum :\", col_chloramines.max())\n",
    "print(\"--------------------------------------\")\n",
    "\n",
    "# kuartil\n",
    "print(\"Kuartil bawah  :\", col_chloramines.quantile(.25) )\n",
    "print(\"Kuartil tengah :\", col_chloramines.quantile(.50) )\n",
    "print(\"Kuartil atas   :\" , col_chloramines.quantile(.75) )\n",
    "print(\"--------------------------------------\")\n",
    "\n",
    "# IQR\n",
    "iqr_data = col_chloramines.quantile(.75) - col_chloramines.quantile(.25)\n",
    "print(\"IQR :\", iqr_data)\n",
    "print(\"--------------------------------------\")\n",
    "\n",
    "# skewness\n",
    "print(\"Skewness :\", col_chloramines.skew())\n",
    "print(\"--------------------------------------\")\n",
    "\n",
    "# kurtosis\n",
    "print(\"Kurtosis: \", col_chloramines.kurtosis())\n",
    "print(\"--------------------------------------\")"
   ]
  },
  {
   "cell_type": "markdown",
   "id": "b9f7fb2c",
   "metadata": {},
   "source": [
    "<h3>1.5 Kolom Sulfate</h3>"
   ]
  },
  {
   "cell_type": "code",
   "execution_count": 6,
   "id": "2e708943",
   "metadata": {},
   "outputs": [
    {
     "name": "stdout",
     "output_type": "stream",
     "text": [
      "==================================\n",
      "Deskripsi Statistika Kolom Sulfate\n",
      "==================================\n",
      "Mean : 333.211376415189\n",
      "----------------------------------\n",
      "Median : 332.2141128069568\n",
      "----------------------------------\n",
      "Terdapat 2010 buah modus\n",
      "Salah satu modusnya adalah:\n",
      "0.2274990502021987\n",
      "Hal ini mengimplementasikan\n",
      "bahwa semua data pada\n",
      "kolom ini bersifat unik\n",
      "----------------------------------\n",
      "Stander deviasi : 41.21111102560979\n",
      "----------------------------------\n",
      "Variansi : 1698.355671965137\n",
      "----------------------------------\n",
      "Range : 352.03064230599716\n",
      "----------------------------------\n",
      "Minimum : 129.00000000000003\n",
      "----------------------------------\n",
      "Maksimum : 481.0306423059972\n",
      "----------------------------------\n",
      "Kuartil bawah  : 307.6269864860709\n",
      "Kuartil tengah : 332.2141128069568\n",
      "Kuartil atas   : 359.26814739141554\n",
      "----------------------------------\n",
      "IQR : 51.641160905344634\n",
      "----------------------------------\n",
      "Skewness : -0.04572780443653543\n",
      "----------------------------------\n",
      "Kurtosis:  0.7868544988131605\n",
      "----------------------------------\n"
     ]
    }
   ],
   "source": [
    "print(\"==================================\")\n",
    "print(\"Deskripsi Statistika Kolom Sulfate\")\n",
    "print(\"==================================\")\n",
    "col_sulfate = df[\"Sulfate\"]\n",
    "\n",
    "# mean\n",
    "print(\"Mean :\", col_sulfate.mean())\n",
    "print(\"----------------------------------\")\n",
    "\n",
    "# median\n",
    "print(\"Median :\", col_sulfate.median())\n",
    "print(\"----------------------------------\")\n",
    "\n",
    "# modus\n",
    "if (len(col_sulfate.mode()) != 2010):\n",
    "    print(\"Terdapat \"+ str(len(col_sulfate.mode())) + \" buah modus, yaitu:\")\n",
    "    for i in range (len(col_sulfate.mode()) - 1):\n",
    "        print(str(col_sulfate.mode()[i]) + \", \", end=\"\")\n",
    "    print(str(col_sulfate.mode()[len(col_sulfate.mode()) - 1]))\n",
    "else:\n",
    "    print(\"Terdapat 2010 buah modus\")\n",
    "    print(\"Salah satu modusnya adalah:\")\n",
    "    print(col_ph.mode()[0])\n",
    "    print(\"Hal ini mengimplementasikan\")\n",
    "    print(\"bahwa semua data pada\")\n",
    "    print(\"kolom ini bersifat unik\")\n",
    "print(\"----------------------------------\")\n",
    "\n",
    "# standar deviasi\n",
    "print(\"Stander deviasi :\", col_sulfate.std())\n",
    "print(\"----------------------------------\")\n",
    "\n",
    "# variansi\n",
    "print(\"Variansi :\", col_sulfate.var())\n",
    "print(\"----------------------------------\")\n",
    "\n",
    "# range\n",
    "range_data = col_sulfate.max() - col_sulfate.min()\n",
    "print(\"Range :\", range_data)\n",
    "print(\"----------------------------------\")\n",
    "\n",
    "# nilai minimum\n",
    "print(\"Minimum :\", col_sulfate.min())\n",
    "print(\"----------------------------------\")\n",
    "\n",
    "# maksimum\n",
    "print(\"Maksimum :\", col_sulfate.max())\n",
    "print(\"----------------------------------\")\n",
    "\n",
    "# kuartil\n",
    "print(\"Kuartil bawah  :\", col_sulfate.quantile(.25) )\n",
    "print(\"Kuartil tengah :\", col_sulfate.quantile(.50) )\n",
    "print(\"Kuartil atas   :\" , col_sulfate.quantile(.75) )\n",
    "print(\"----------------------------------\")\n",
    "\n",
    "# IQR\n",
    "iqr_data = col_sulfate.quantile(.75) - col_sulfate.quantile(.25)\n",
    "print(\"IQR :\", iqr_data)\n",
    "print(\"----------------------------------\")\n",
    "\n",
    "# skewness\n",
    "print(\"Skewness :\", col_sulfate.skew())\n",
    "print(\"----------------------------------\")\n",
    "\n",
    "# kurtosis\n",
    "print(\"Kurtosis: \", col_sulfate.kurtosis())\n",
    "print(\"----------------------------------\")"
   ]
  },
  {
   "cell_type": "markdown",
   "id": "cf8c3d79",
   "metadata": {},
   "source": [
    "<h3>1.6 Kolom Conductivity</h3>"
   ]
  },
  {
   "cell_type": "code",
   "execution_count": 7,
   "id": "91a3b768",
   "metadata": {},
   "outputs": [
    {
     "name": "stdout",
     "output_type": "stream",
     "text": [
      "=======================================\n",
      "Deskripsi Statistika Kolom Conductivity\n",
      "=======================================\n",
      "Mean : 426.47670835257907\n",
      "---------------------------------------\n",
      "Median : 423.43837202443706\n",
      "---------------------------------------\n",
      "Terdapat 2010 buah modus\n",
      "Salah satu modusnya adalah:\n",
      "0.2274990502021987\n",
      "Hal ini mengimplementasikan\n",
      "bahwa semua data pada\n",
      "kolom ini bersifat unik\n",
      "---------------------------------------\n",
      "Stander deviasi : 80.70187180729437\n",
      "---------------------------------------\n",
      "Variansi : 6512.792113200974\n",
      "---------------------------------------\n",
      "Range : 551.7228828031471\n",
      "---------------------------------------\n",
      "Minimum : 201.6197367551575\n",
      "---------------------------------------\n",
      "Maksimum : 753.3426195583046\n",
      "---------------------------------------\n",
      "Kuartil bawah  : 366.61921929632433\n",
      "Kuartil tengah : 423.43837202443706\n",
      "Kuartil atas   : 482.2097724598859\n",
      "---------------------------------------\n",
      "IQR : 115.5905531635616\n",
      "---------------------------------------\n",
      "Skewness : 0.26801233302645316\n",
      "---------------------------------------\n",
      "Kurtosis:  -0.23720600574806516\n",
      "---------------------------------------\n"
     ]
    }
   ],
   "source": [
    "print(\"=======================================\")\n",
    "print(\"Deskripsi Statistika Kolom Conductivity\")\n",
    "print(\"=======================================\")\n",
    "col_conductivity = df[\"Conductivity\"]\n",
    "\n",
    "# mean\n",
    "print(\"Mean :\", col_conductivity.mean())\n",
    "print(\"---------------------------------------\")\n",
    "\n",
    "# median\n",
    "print(\"Median :\", col_conductivity.median())\n",
    "print(\"---------------------------------------\")\n",
    "\n",
    "# modus\n",
    "if (len(col_conductivity.mode()) != 2010):\n",
    "    print(\"Terdapat \"+ str(len(col_conductivity.mode())) + \" buah modus, yaitu:\")\n",
    "    for i in range (len(col_conductivity.mode()) - 1):\n",
    "        print(str(col_conductivity.mode()[i]) + \", \", end=\"\")\n",
    "    print(str(col_conductivity.mode()[len(col_conductivity.mode()) - 1]))\n",
    "else:\n",
    "    print(\"Terdapat 2010 buah modus\")\n",
    "    print(\"Salah satu modusnya adalah:\")\n",
    "    print(col_ph.mode()[0])\n",
    "    print(\"Hal ini mengimplementasikan\")\n",
    "    print(\"bahwa semua data pada\")\n",
    "    print(\"kolom ini bersifat unik\")\n",
    "print(\"---------------------------------------\")\n",
    "\n",
    "# standar deviasi\n",
    "print(\"Stander deviasi :\", col_conductivity.std())\n",
    "print(\"---------------------------------------\")\n",
    "\n",
    "# variansi\n",
    "print(\"Variansi :\", col_conductivity.var())\n",
    "print(\"---------------------------------------\")\n",
    "\n",
    "# range\n",
    "range_data = col_conductivity.max() - col_conductivity.min()\n",
    "print(\"Range :\", range_data)\n",
    "print(\"---------------------------------------\")\n",
    "\n",
    "# nilai minimum\n",
    "print(\"Minimum :\", col_conductivity.min())\n",
    "print(\"---------------------------------------\")\n",
    "\n",
    "# maksimum\n",
    "print(\"Maksimum :\", col_conductivity.max())\n",
    "print(\"---------------------------------------\")\n",
    "\n",
    "# kuartil\n",
    "print(\"Kuartil bawah  :\", col_conductivity.quantile(.25) )\n",
    "print(\"Kuartil tengah :\", col_conductivity.quantile(.50) )\n",
    "print(\"Kuartil atas   :\" , col_conductivity.quantile(.75) )\n",
    "print(\"---------------------------------------\")\n",
    "\n",
    "# IQR\n",
    "iqr_data = col_conductivity.quantile(.75) - col_conductivity.quantile(.25)\n",
    "print(\"IQR :\", iqr_data)\n",
    "print(\"---------------------------------------\")\n",
    "\n",
    "# skewness\n",
    "print(\"Skewness :\", col_conductivity.skew())\n",
    "print(\"---------------------------------------\")\n",
    "\n",
    "# kurtosis\n",
    "print(\"Kurtosis: \", col_conductivity.kurtosis())\n",
    "print(\"---------------------------------------\")"
   ]
  },
  {
   "cell_type": "markdown",
   "id": "e61f3faf",
   "metadata": {},
   "source": [
    "<h3>1.7 Kolom Organic Carbon</h3>"
   ]
  },
  {
   "cell_type": "code",
   "execution_count": 8,
   "id": "b5477cdd",
   "metadata": {},
   "outputs": [
    {
     "name": "stdout",
     "output_type": "stream",
     "text": [
      "=========================================\n",
      "Deskripsi Statistika Kolom Organic Carbon\n",
      "=========================================\n",
      "Mean : 14.357939902048074\n",
      "-----------------------------------------\n",
      "Median : 14.323285610653329\n",
      "-----------------------------------------\n",
      "Terdapat 2010 buah modus\n",
      "Salah satu modusnya adalah:\n",
      "0.2274990502021987\n",
      "Hal ini mengimplementasikan\n",
      "bahwa semua data pada\n",
      "kolom ini bersifat unik\n",
      "-----------------------------------------\n",
      "Stander deviasi : 3.3257700016987197\n",
      "-----------------------------------------\n",
      "Variansi : 11.0607461041991\n",
      "-----------------------------------------\n",
      "Range : 24.80670661116602\n",
      "-----------------------------------------\n",
      "Minimum : 2.1999999999999886\n",
      "-----------------------------------------\n",
      "Maksimum : 27.00670661116601\n",
      "-----------------------------------------\n",
      "Kuartil bawah  : 12.122530374047727\n",
      "Kuartil tengah : 14.323285610653329\n",
      "Kuartil atas   : 16.683561746173808\n",
      "-----------------------------------------\n",
      "IQR : 4.561031372126081\n",
      "-----------------------------------------\n",
      "Skewness : -0.02021975629181238\n",
      "-----------------------------------------\n",
      "Kurtosis:  0.031018388192253\n",
      "-----------------------------------------\n"
     ]
    }
   ],
   "source": [
    "print(\"=========================================\")\n",
    "print(\"Deskripsi Statistika Kolom Organic Carbon\")\n",
    "print(\"=========================================\")\n",
    "col_organic_carbon = df[\"OrganicCarbon\"]\n",
    "\n",
    "# mean\n",
    "print(\"Mean :\", col_organic_carbon.mean())\n",
    "print(\"-----------------------------------------\")\n",
    "\n",
    "# median\n",
    "print(\"Median :\", col_organic_carbon.median())\n",
    "print(\"-----------------------------------------\")\n",
    "\n",
    "# modus\n",
    "if (len(col_organic_carbon.mode()) != 2010):\n",
    "    print(\"Terdapat \"+ str(len(col_organic_carbon.mode())) + \" buah modus, yaitu:\")\n",
    "    for i in range (len(col_organic_carbon.mode()) - 1):\n",
    "        print(str(col_organic_carbon.mode()[i]) + \", \", end=\"\")\n",
    "    print(str(col_organic_carbon.mode()[len(col_organic_carbon.mode()) - 1]))\n",
    "else:\n",
    "    print(\"Terdapat 2010 buah modus\")\n",
    "    print(\"Salah satu modusnya adalah:\")\n",
    "    print(col_ph.mode()[0])\n",
    "    print(\"Hal ini mengimplementasikan\")\n",
    "    print(\"bahwa semua data pada\")\n",
    "    print(\"kolom ini bersifat unik\")\n",
    "print(\"-----------------------------------------\")\n",
    "\n",
    "# standar deviasi\n",
    "print(\"Stander deviasi :\", col_organic_carbon.std())\n",
    "print(\"-----------------------------------------\")\n",
    "\n",
    "# variansi\n",
    "print(\"Variansi :\", col_organic_carbon.var())\n",
    "print(\"-----------------------------------------\")\n",
    "\n",
    "# range\n",
    "range_data = col_organic_carbon.max() - col_organic_carbon.min()\n",
    "print(\"Range :\", range_data)\n",
    "print(\"-----------------------------------------\")\n",
    "\n",
    "# nilai minimum\n",
    "print(\"Minimum :\", col_organic_carbon.min())\n",
    "print(\"-----------------------------------------\")\n",
    "\n",
    "# maksimum\n",
    "print(\"Maksimum :\", col_organic_carbon.max())\n",
    "print(\"-----------------------------------------\")\n",
    "\n",
    "# kuartil\n",
    "print(\"Kuartil bawah  :\", col_organic_carbon.quantile(.25) )\n",
    "print(\"Kuartil tengah :\", col_organic_carbon.quantile(.50) )\n",
    "print(\"Kuartil atas   :\" , col_organic_carbon.quantile(.75) )\n",
    "print(\"-----------------------------------------\")\n",
    "\n",
    "# IQR\n",
    "iqr_data = col_organic_carbon.quantile(.75) - col_organic_carbon.quantile(.25)\n",
    "print(\"IQR :\", iqr_data)\n",
    "print(\"-----------------------------------------\")\n",
    "\n",
    "# skewness\n",
    "print(\"Skewness :\", col_organic_carbon.skew())\n",
    "print(\"-----------------------------------------\")\n",
    "\n",
    "# kurtosis\n",
    "print(\"Kurtosis: \", col_organic_carbon.kurtosis())\n",
    "print(\"-----------------------------------------\")"
   ]
  },
  {
   "cell_type": "markdown",
   "id": "0df7d445",
   "metadata": {},
   "source": [
    "<h3>1.8 Kolom Trihalomethanes</h3>"
   ]
  },
  {
   "cell_type": "code",
   "execution_count": 9,
   "id": "99353528",
   "metadata": {},
   "outputs": [
    {
     "name": "stdout",
     "output_type": "stream",
     "text": [
      "==========================================\n",
      "Deskripsi Statistika Kolom Trihalomethanes\n",
      "==========================================\n",
      "Mean : 66.40071666307466\n",
      "------------------------------------------\n",
      "Median : 66.48204080309809\n",
      "------------------------------------------\n",
      "Terdapat 2010 buah modus\n",
      "Salah satu modusnya adalah:\n",
      "0.2274990502021987\n",
      "Hal ini mengimplementasikan\n",
      "bahwa semua data pada\n",
      "kolom ini bersifat unik\n",
      "------------------------------------------\n",
      "Stander deviasi : 16.08110898232513\n",
      "------------------------------------------\n",
      "Variansi : 258.60206610141796\n",
      "------------------------------------------\n",
      "Range : 115.4229870670162\n",
      "------------------------------------------\n",
      "Minimum : 8.577012932983806\n",
      "------------------------------------------\n",
      "Maksimum : 124.0\n",
      "------------------------------------------\n",
      "Kuartil bawah  : 55.94999302803186\n",
      "Kuartil tengah : 66.48204080309809\n",
      "Kuartil atas   : 77.2946128060674\n",
      "------------------------------------------\n",
      "IQR : 21.344619778035543\n",
      "------------------------------------------\n",
      "Skewness : -0.05138268451619478\n",
      "------------------------------------------\n",
      "Kurtosis:  0.2230167810639787\n",
      "------------------------------------------\n"
     ]
    }
   ],
   "source": [
    "print(\"==========================================\")\n",
    "print(\"Deskripsi Statistika Kolom Trihalomethanes\")\n",
    "print(\"==========================================\")\n",
    "col_trihalomethanes = df[\"Trihalomethanes\"]\n",
    "\n",
    "# mean\n",
    "print(\"Mean :\", col_trihalomethanes.mean())\n",
    "print(\"------------------------------------------\")\n",
    "\n",
    "# median\n",
    "print(\"Median :\", col_trihalomethanes.median())\n",
    "print(\"------------------------------------------\")\n",
    "\n",
    "# modus\n",
    "if (len(col_trihalomethanes.mode()) != 2010):\n",
    "    print(\"Terdapat \"+ str(len(col_trihalomethanes.mode())) + \" buah modus, yaitu:\")\n",
    "    for i in range (len(col_trihalomethanes.mode()) - 1):\n",
    "        print(str(col_trihalomethanes.mode()[i]) + \", \", end=\"\")\n",
    "    print(str(col_trihalomethanes.mode()[len(col_trihalomethanes.mode()) - 1]))\n",
    "else:\n",
    "    print(\"Terdapat 2010 buah modus\")\n",
    "    print(\"Salah satu modusnya adalah:\")\n",
    "    print(col_ph.mode()[0])\n",
    "    print(\"Hal ini mengimplementasikan\")\n",
    "    print(\"bahwa semua data pada\")\n",
    "    print(\"kolom ini bersifat unik\")\n",
    "print(\"------------------------------------------\")\n",
    "\n",
    "# standar deviasi\n",
    "print(\"Stander deviasi :\", col_trihalomethanes.std())\n",
    "print(\"------------------------------------------\")\n",
    "\n",
    "# variansi\n",
    "print(\"Variansi :\", col_trihalomethanes.var())\n",
    "print(\"------------------------------------------\")\n",
    "\n",
    "# range\n",
    "range_data = col_trihalomethanes.max() - col_trihalomethanes.min()\n",
    "print(\"Range :\", range_data)\n",
    "print(\"------------------------------------------\")\n",
    "\n",
    "# nilai minimum\n",
    "print(\"Minimum :\", col_trihalomethanes.min())\n",
    "print(\"------------------------------------------\")\n",
    "\n",
    "# maksimum\n",
    "print(\"Maksimum :\", col_trihalomethanes.max())\n",
    "print(\"------------------------------------------\")\n",
    "\n",
    "# kuartil\n",
    "print(\"Kuartil bawah  :\", col_trihalomethanes.quantile(.25) )\n",
    "print(\"Kuartil tengah :\", col_trihalomethanes.quantile(.50) )\n",
    "print(\"Kuartil atas   :\" , col_trihalomethanes.quantile(.75) )\n",
    "print(\"------------------------------------------\")\n",
    "\n",
    "# IQR\n",
    "iqr_data = col_trihalomethanes.quantile(.75) - col_trihalomethanes.quantile(.25)\n",
    "print(\"IQR :\", iqr_data)\n",
    "print(\"------------------------------------------\")\n",
    "\n",
    "# skewness\n",
    "print(\"Skewness :\", col_trihalomethanes.skew())\n",
    "print(\"------------------------------------------\")\n",
    "\n",
    "# kurtosis\n",
    "print(\"Kurtosis: \", col_trihalomethanes.kurtosis())\n",
    "print(\"------------------------------------------\")"
   ]
  },
  {
   "cell_type": "markdown",
   "id": "5952d9a8",
   "metadata": {},
   "source": [
    "<h3>1.9 Kolom Turbidity</h3>"
   ]
  },
  {
   "cell_type": "code",
   "execution_count": 10,
   "id": "a9e2af61",
   "metadata": {},
   "outputs": [
    {
     "name": "stdout",
     "output_type": "stream",
     "text": [
      "====================================\n",
      "Deskripsi Statistika Kolom Turbidity\n",
      "====================================\n",
      "Mean : 3.9694969126303676\n",
      "------------------------------------\n",
      "Median : 3.967373963531836\n",
      "------------------------------------\n",
      "Terdapat 2010 buah modus\n",
      "Salah satu modusnya adalah:\n",
      "0.2274990502021987\n",
      "Hal ini mengimplementasikan\n",
      "bahwa semua data pada\n",
      "kolom ini bersifat unik\n",
      "------------------------------------\n",
      "Stander deviasi : 0.7804710407083957\n",
      "------------------------------------\n",
      "Variansi : 0.6091350453844462\n",
      "------------------------------------\n",
      "Range : 5.044748555990993\n",
      "------------------------------------\n",
      "Minimum : 1.45\n",
      "------------------------------------\n",
      "Maksimum : 6.494748555990993\n",
      "------------------------------------\n",
      "Kuartil bawah  : 3.442881623557439\n",
      "Kuartil tengah : 3.967373963531836\n",
      "Kuartil atas   : 4.5146627202018825\n",
      "------------------------------------\n",
      "IQR : 1.0717810966444437\n",
      "------------------------------------\n",
      "Skewness : -0.03226597968019271\n",
      "------------------------------------\n",
      "Kurtosis:  -0.049830796949249745\n",
      "------------------------------------\n"
     ]
    }
   ],
   "source": [
    "print(\"====================================\")\n",
    "print(\"Deskripsi Statistika Kolom Turbidity\")\n",
    "print(\"====================================\")\n",
    "col_turbidity = df[\"Turbidity\"]\n",
    "\n",
    "# mean\n",
    "print(\"Mean :\", col_turbidity.mean())\n",
    "print(\"------------------------------------\")\n",
    "\n",
    "# median\n",
    "print(\"Median :\", col_turbidity.median())\n",
    "print(\"------------------------------------\")\n",
    "\n",
    "# modus\n",
    "if (len(col_turbidity.mode()) != 2010):\n",
    "    print(\"Terdapat \"+ str(len(col_turbidity.mode())) + \" buah modus, yaitu:\")\n",
    "    for i in range (len(col_turbidity.mode()) - 1):\n",
    "        print(str(col_turbidity.mode()[i]) + \", \", end=\"\")\n",
    "    print(str(col_turbidity.mode()[len(col_turbidity.mode()) - 1]))\n",
    "else:\n",
    "    print(\"Terdapat 2010 buah modus\")\n",
    "    print(\"Salah satu modusnya adalah:\")\n",
    "    print(col_ph.mode()[0])\n",
    "    print(\"Hal ini mengimplementasikan\")\n",
    "    print(\"bahwa semua data pada\")\n",
    "    print(\"kolom ini bersifat unik\")\n",
    "print(\"------------------------------------\")\n",
    "\n",
    "# standar deviasi\n",
    "print(\"Stander deviasi :\", col_turbidity.std())\n",
    "print(\"------------------------------------\")\n",
    "\n",
    "# variansi\n",
    "print(\"Variansi :\", col_turbidity.var())\n",
    "print(\"------------------------------------\")\n",
    "\n",
    "# range\n",
    "range_data = col_turbidity.max() - col_turbidity.min()\n",
    "print(\"Range :\", range_data)\n",
    "print(\"------------------------------------\")\n",
    "\n",
    "# nilai minimum\n",
    "print(\"Minimum :\", col_turbidity.min())\n",
    "print(\"------------------------------------\")\n",
    "\n",
    "# maksimum\n",
    "print(\"Maksimum :\", col_turbidity.max())\n",
    "print(\"------------------------------------\")\n",
    "\n",
    "# kuartil\n",
    "print(\"Kuartil bawah  :\", col_turbidity.quantile(.25) )\n",
    "print(\"Kuartil tengah :\", col_turbidity.quantile(.50) )\n",
    "print(\"Kuartil atas   :\" , col_turbidity.quantile(.75) )\n",
    "print(\"------------------------------------\")\n",
    "\n",
    "# IQR\n",
    "iqr_data = col_turbidity.quantile(.75) - col_turbidity.quantile(.25)\n",
    "print(\"IQR :\", iqr_data)\n",
    "print(\"------------------------------------\")\n",
    "\n",
    "# skewness\n",
    "print(\"Skewness :\", col_turbidity.skew())\n",
    "print(\"------------------------------------\")\n",
    "\n",
    "# kurtosis\n",
    "print(\"Kurtosis: \", col_turbidity.kurtosis())\n",
    "print(\"------------------------------------\")"
   ]
  },
  {
   "cell_type": "markdown",
   "id": "6740331d",
   "metadata": {},
   "source": [
    "<h2>2. Visualisasi Plot Distribusi</h2>"
   ]
  },
  {
   "cell_type": "markdown",
   "id": "33f004eb",
   "metadata": {},
   "source": [
    "<h3>2.1 Kolom pH</h3>"
   ]
  },
  {
   "cell_type": "code",
   "execution_count": 11,
   "id": "7dbd3dbc",
   "metadata": {},
   "outputs": [
    {
     "data": {
      "text/plain": [
       "<AxesSubplot:>"
      ]
     },
     "execution_count": 11,
     "metadata": {},
     "output_type": "execute_result"
    },
    {
     "data": {
      "image/png": "[encoded data removed]",
      "text/plain": [
       "<Figure size 432x288 with 2 Axes>"
      ]
     },
     "metadata": {
      "needs_background": "light"
     },
     "output_type": "display_data"
    }
   ],
   "source": [
    "col_ph = df[\"pH\"]\n",
    "plt.subplots_adjust(left=2, right=4, wspace=0.5)\n",
    "plt.subplot(121)\n",
    "col_ph.plot(kind=\"hist\", bins=20)\n",
    "plt.subplot(122)\n",
    "df.boxplot(column=\"pH\")"
   ]
  },
  {
   "cell_type": "markdown",
   "id": "d75ba413",
   "metadata": {},
   "source": [
    "Dari kedua buah grafik di atas, dapat disimpulkan bahwa:\n",
    "1. Pada kolom pH, <em>skewnessnya</em> bersifat <em>normal</em>\n",
    "2. Terdapat data pencilan pada kolom pH, baik itu merupakan pencilan atas maupun pencilan bawah"
   ]
  },
  {
   "cell_type": "markdown",
   "id": "8d74aa7f",
   "metadata": {},
   "source": [
    "<h3>2.2 Kolom Hardness</h3>"
   ]
  },
  {
   "cell_type": "code",
   "execution_count": 12,
   "id": "5361663d",
   "metadata": {},
   "outputs": [
    {
     "data": {
      "text/plain": [
       "<AxesSubplot:>"
      ]
     },
     "execution_count": 12,
     "metadata": {},
     "output_type": "execute_result"
    },
    {
     "data": {
      "image/png": "[encoded data removed]",
      "text/plain": [
       "<Figure size 432x288 with 2 Axes>"
      ]
     },
     "metadata": {
      "needs_background": "light"
     },
     "output_type": "display_data"
    }
   ],
   "source": [
    "col_hardness = df[\"Hardness\"]\n",
    "plt.subplots_adjust(left=2, right=4, wspace=0.5)\n",
    "plt.subplot(121)\n",
    "col_hardness.plot(kind=\"hist\", bins=20)\n",
    "plt.subplot(122)\n",
    "df.boxplot(column=\"Hardness\")"
   ]
  },
  {
   "cell_type": "markdown",
   "id": "091fdabd",
   "metadata": {},
   "source": [
    "Dari kedua buah grafik di atas, dapat disimpulkan bahwa:\n",
    "1. Pada kolom Hardness, <em>skewnessnya</em> bersifat <em>normal</em>\n",
    "2. Terdapat data pencilan pada kolom Hardness, baik itu merupakan pencilan atas maupun pencilan bawah"
   ]
  },
  {
   "cell_type": "markdown",
   "id": "7fc3114a",
   "metadata": {},
   "source": [
    "<h3>2.3 Kolom Solids</h3>"
   ]
  },
  {
   "cell_type": "code",
   "execution_count": 13,
   "id": "0c87f95b",
   "metadata": {},
   "outputs": [
    {
     "data": {
      "text/plain": [
       "<AxesSubplot:>"
      ]
     },
     "execution_count": 13,
     "metadata": {},
     "output_type": "execute_result"
    },
    {
     "data": {
      "image/png": "[encoded data removed]",
      "text/plain": [
       "<Figure size 432x288 with 2 Axes>"
      ]
     },
     "metadata": {
      "needs_background": "light"
     },
     "output_type": "display_data"
    }
   ],
   "source": [
    "col_solids = df[\"Solids\"]\n",
    "plt.subplots_adjust(left=2, right=4, wspace=0.5)\n",
    "plt.subplot(121)\n",
    "col_solids.plot(kind=\"hist\", bins=20)\n",
    "plt.subplot(122)\n",
    "df.boxplot(column=\"Solids\")"
   ]
  },
  {
   "cell_type": "markdown",
   "id": "825f6c2c",
   "metadata": {},
   "source": [
    "Dari kedua buah grafik di atas, dapat disimpulkan bahwa:\n",
    "1. Pada kolom Solids, <em>skewnessnya</em> bersifat <em>skewed right</em>\n",
    "2. Terdapat data pencilan pada kolom Solids, yaitu data pencilan atas"
   ]
  },
  {
   "cell_type": "markdown",
   "id": "92074941",
   "metadata": {},
   "source": [
    "<h3>2.4 Kolom Chloramines</h3>"
   ]
  },
  {
   "cell_type": "code",
   "execution_count": 14,
   "id": "596768d1",
   "metadata": {},
   "outputs": [
    {
     "data": {
      "text/plain": [
       "<AxesSubplot:>"
      ]
     },
     "execution_count": 14,
     "metadata": {},
     "output_type": "execute_result"
    },
    {
     "data": {
      "image/png": "[encoded data removed]",
      "text/plain": [
       "<Figure size 432x288 with 2 Axes>"
      ]
     },
     "metadata": {
      "needs_background": "light"
     },
     "output_type": "display_data"
    }
   ],
   "source": [
    "col_chloramines = df[\"Chloramines\"]\n",
    "plt.subplots_adjust(left=2, right=4, wspace=0.5)\n",
    "plt.subplot(121)\n",
    "col_chloramines.plot(kind=\"hist\", bins=20)\n",
    "plt.subplot(122)\n",
    "df.boxplot(column=\"Chloramines\")"
   ]
  },
  {
   "cell_type": "markdown",
   "id": "e364e296",
   "metadata": {},
   "source": [
    "Dari kedua buah grafik di atas, dapat disimpulkan bahwa:\n",
    "1. Pada kolom Chloramines, <em>skewnessnya</em> bersifat <em>normal</em>\n",
    "2. Terdapat data pencilan pada kolom Chloramines, baik itu merupakan pencilan atas maupun pencilan bawah"
   ]
  },
  {
   "cell_type": "markdown",
   "id": "68948138",
   "metadata": {},
   "source": [
    "<h3>2.5 Kolom Sulfate</h3>"
   ]
  },
  {
   "cell_type": "code",
   "execution_count": 15,
   "id": "30637f35",
   "metadata": {},
   "outputs": [
    {
     "data": {
      "text/plain": [
       "<AxesSubplot:>"
      ]
     },
     "execution_count": 15,
     "metadata": {},
     "output_type": "execute_result"
    },
    {
     "data": {
      "image/png": "[encoded data removed]",
      "text/plain": [
       "<Figure size 432x288 with 2 Axes>"
      ]
     },
     "metadata": {
      "needs_background": "light"
     },
     "output_type": "display_data"
    }
   ],
   "source": [
    "col_sulfate = df[\"Sulfate\"]\n",
    "plt.subplots_adjust(left=2, right=4, wspace=0.5)\n",
    "plt.subplot(121)\n",
    "col_sulfate.plot(kind=\"hist\", bins=20)\n",
    "plt.subplot(122)\n",
    "df.boxplot(column=\"Sulfate\")"
   ]
  },
  {
   "cell_type": "markdown",
   "id": "9cb1c2f5",
   "metadata": {},
   "source": [
    "Pada kedua buah grafik di atas, dapat disimpulkan bahwa:\n",
    "1. Pada kolom Sulfate, <em>skewnessnya</em> bersifat <em>normal</em>\n",
    "2. Terdapat data pencilan pada kolom Sulfate, baik itu merupakan pencilan atas maupun pencilan bawah"
   ]
  },
  {
   "cell_type": "markdown",
   "id": "78845cd9",
   "metadata": {},
   "source": [
    "<h3>2.6 Kolom Conductivity</h3>"
   ]
  },
  {
   "cell_type": "code",
   "execution_count": 16,
   "id": "edcc5be5",
   "metadata": {},
   "outputs": [
    {
     "data": {
      "text/plain": [
       "<AxesSubplot:>"
      ]
     },
     "execution_count": 16,
     "metadata": {},
     "output_type": "execute_result"
    },
    {
     "data": {
      "image/png": "[encoded data removed]",
      "text/plain": [
       "<Figure size 432x288 with 2 Axes>"
      ]
     },
     "metadata": {
      "needs_background": "light"
     },
     "output_type": "display_data"
    }
   ],
   "source": [
    "col_conductivity = df[\"Conductivity\"]\n",
    "plt.subplots_adjust(left=2, right=4, wspace=0.5)\n",
    "plt.subplot(121)\n",
    "col_conductivity.plot(kind=\"hist\", bins=20)\n",
    "plt.subplot(122)\n",
    "df.boxplot(column=\"Conductivity\")"
   ]
  },
  {
   "cell_type": "markdown",
   "id": "ae4418e2",
   "metadata": {},
   "source": [
    "Pada kedua buah grafik di atas, dapat disimpulkan bahwa:\n",
    "1. Pada kolom Conductivity, <em>skewnessnya</em> bersifat <em>skewed right</em>\n",
    "2. Terdapat data pencilan pada kolom Conductivity, yaitu data pencilan atas"
   ]
  },
  {
   "cell_type": "markdown",
   "id": "6a048492",
   "metadata": {},
   "source": [
    "<h3>2.7 Organic Carbon</h3>"
   ]
  },
  {
   "cell_type": "code",
   "execution_count": 17,
   "id": "478be11d",
   "metadata": {},
   "outputs": [
    {
     "data": {
      "text/plain": [
       "<AxesSubplot:>"
      ]
     },
     "execution_count": 17,
     "metadata": {},
     "output_type": "execute_result"
    },
    {
     "data": {
      "image/png": "[encoded data removed]",
      "text/plain": [
       "<Figure size 432x288 with 2 Axes>"
      ]
     },
     "metadata": {
      "needs_background": "light"
     },
     "output_type": "display_data"
    }
   ],
   "source": [
    "col_organic_carbon= df[\"OrganicCarbon\"]\n",
    "plt.subplots_adjust(left=2, right=4, wspace=0.5)\n",
    "plt.subplot(121)\n",
    "col_organic_carbon.plot(kind=\"hist\", bins=20)\n",
    "plt.subplot(122)\n",
    "df.boxplot(column=\"OrganicCarbon\")"
   ]
  },
  {
   "cell_type": "markdown",
   "id": "a3fe9713",
   "metadata": {},
   "source": [
    "Pada kedua buah grafik di atas, dapat disimpulkan bahwa:\n",
    "1. Pada kolom Organic Carbon, <em>skewnessnya</em> bersifat <em>normal</em>\n",
    "2. Terdapat data pencilan pada kolom Organic Carbon, baik itu merupakan pencilan atas maupun pencilan bawah"
   ]
  },
  {
   "cell_type": "markdown",
   "id": "6a9ae3fc",
   "metadata": {},
   "source": [
    "<h3>2.8 Kolom Trihalomethanes</h3>"
   ]
  },
  {
   "cell_type": "code",
   "execution_count": 18,
   "id": "ffc77ffc",
   "metadata": {},
   "outputs": [
    {
     "data": {
      "text/plain": [
       "<AxesSubplot:>"
      ]
     },
     "execution_count": 18,
     "metadata": {},
     "output_type": "execute_result"
    },
    {
     "data": {
      "image/png": "[encoded data removed]",
      "text/plain": [
       "<Figure size 432x288 with 2 Axes>"
      ]
     },
     "metadata": {
      "needs_background": "light"
     },
     "output_type": "display_data"
    }
   ],
   "source": [
    "col_trihalomethanes= df[\"Trihalomethanes\"]\n",
    "plt.subplots_adjust(left=2, right=4, wspace=0.5)\n",
    "plt.subplot(121)\n",
    "col_trihalomethanes.plot(kind=\"hist\", bins=20)\n",
    "plt.subplot(122)\n",
    "df.boxplot(column=\"Trihalomethanes\")"
   ]
  },
  {
   "cell_type": "markdown",
   "id": "538f6678",
   "metadata": {},
   "source": [
    "Pada kedua buah grafik di atas, dapat disimpulkan bahwa:\n",
    "1. Pada kolom Trihalomethanes, <em>skewnessnya</em> bersifat <em>normal</em>\n",
    "2. Terdapat data pencilan pada kolom Trihalomethanes, baik itu merupakan pencilan atas maupun pencilan bawah"
   ]
  },
  {
   "cell_type": "markdown",
   "id": "1e2e8359",
   "metadata": {},
   "source": [
    "<h3>2.9 Kolom Turbidity</h3>"
   ]
  },
  {
   "cell_type": "code",
   "execution_count": 19,
   "id": "700464b7",
   "metadata": {},
   "outputs": [
    {
     "data": {
      "text/plain": [
       "<AxesSubplot:>"
      ]
     },
     "execution_count": 19,
     "metadata": {},
     "output_type": "execute_result"
    },
    {
     "data": {
      "image/png": "[encoded data removed]",
      "text/plain": [
       "<Figure size 432x288 with 2 Axes>"
      ]
     },
     "metadata": {
      "needs_background": "light"
     },
     "output_type": "display_data"
    }
   ],
   "source": [
    "col_turbidity= df[\"Turbidity\"]\n",
    "plt.subplots_adjust(left=2, right=4, wspace=0.5)\n",
    "plt.subplot(121)\n",
    "col_turbidity.plot(kind=\"hist\", bins=20)\n",
    "plt.subplot(122)\n",
    "df.boxplot(column=\"Turbidity\")"
   ]
  },
  {
   "cell_type": "markdown",
   "id": "56a49ccd",
   "metadata": {},
   "source": [
    "Pada kedua buah grafik di atas, dapat disimpulkan bahwa:\n",
    "1. Pada kolom Turbility, <em>skewnessnya</em> bersifat <em>normal</em>\n",
    "2. Terdapat data pencilan pada kolom Turbility, baik itu merupakan pencilan atas maupun pencilan bawah"
   ]
  },
  {
   "cell_type": "markdown",
   "id": "bdafcc04",
   "metadata": {},
   "source": [
    "<h2>3. Tes Distribusi Normal (Normality Test)</h2>"
   ]
  },
  {
   "cell_type": "markdown",
   "id": "87e55a92",
   "metadata": {},
   "source": [
    "<h3> 3.1 Kolom pH</h3>"
   ]
  },
  {
   "cell_type": "code",
   "execution_count": 20,
   "id": "da443fc1",
   "metadata": {},
   "outputs": [
    {
     "data": {
      "text/plain": [
       "<seaborn.axisgrid.FacetGrid at 0x1348c021be0>"
      ]
     },
     "execution_count": 20,
     "metadata": {},
     "output_type": "execute_result"
    },
    {
     "data": {
      "image/png": "[encoded data removed]",
      "text/plain": [
       "<Figure size 360x360 with 1 Axes>"
      ]
     },
     "metadata": {
      "needs_background": "light"
     },
     "output_type": "display_data"
    }
   ],
   "source": [
    "sns.displot(data = df, x = \"pH\", kde = True)"
   ]
  },
  {
   "cell_type": "markdown",
   "id": "f8fa8a8f",
   "metadata": {},
   "source": [
    "Histogram di atas menunjukkan bahwa data pada kolom pH tidak terdistribusi secara normal. Hal ini dapat dilihat dari bentuk histogram yang tidak menyerupai bell curve."
   ]
  },
  {
   "cell_type": "markdown",
   "id": "fadcea11",
   "metadata": {},
   "source": [
    "<h3> 3.2 Kolom Hardness </h3>"
   ]
  },
  {
   "cell_type": "code",
   "execution_count": 21,
   "id": "1f2dec5e",
   "metadata": {},
   "outputs": [
    {
     "data": {
      "text/plain": [
       "<seaborn.axisgrid.FacetGrid at 0x1348c3cac40>"
      ]
     },
     "execution_count": 21,
     "metadata": {},
     "output_type": "execute_result"
    },
    {
     "data": {
      "image/png": "[encoded data removed]",
      "text/plain": [
       "<Figure size 360x360 with 1 Axes>"
      ]
     },
     "metadata": {
      "needs_background": "light"
     },
     "output_type": "display_data"
    }
   ],
   "source": [
    "sns.displot(data = df, x = \"Hardness\", kde = True)"
   ]
  },
  {
   "cell_type": "markdown",
   "id": "ef36ea0d",
   "metadata": {},
   "source": [
    "Histogram di atas menunjukkan bahwa data pada kolom Hardness tidak terdistribusi secara normal. Hal ini dapat dilihat dari bentuk histogram yang tidak menyerupai bell curve."
   ]
  },
  {
   "cell_type": "markdown",
   "id": "8b3985ea",
   "metadata": {},
   "source": [
    "<h3> 3.3 Kolom Solids </h3>"
   ]
  },
  {
   "cell_type": "code",
   "execution_count": 22,
   "id": "084b54e7",
   "metadata": {},
   "outputs": [
    {
     "data": {
      "text/plain": [
       "<seaborn.axisgrid.FacetGrid at 0x1348da00e50>"
      ]
     },
     "execution_count": 22,
     "metadata": {},
     "output_type": "execute_result"
    },
    {
     "data": {
      "image/png": "[encoded data removed]",
      "text/plain": [
       "<Figure size 360x360 with 1 Axes>"
      ]
     },
     "metadata": {
      "needs_background": "light"
     },
     "output_type": "display_data"
    }
   ],
   "source": [
    "sns.displot(data = df, x = \"Solids\", kde = True)"
   ]
  },
  {
   "cell_type": "markdown",
   "id": "d48b4ec2",
   "metadata": {},
   "source": [
    "Histogram di atas menunjukkan bahwa data pada kolom Solids tidak terdistribusi secara normal. Hal ini dapat dilihat dari bentuk histogram yang tidak menyerupai bell curve."
   ]
  },
  {
   "cell_type": "markdown",
   "id": "8d84e1a7",
   "metadata": {},
   "source": [
    "<h3> 3.4 Kolom Chloramines </h3>"
   ]
  },
  {
   "cell_type": "code",
   "execution_count": 23,
   "id": "18c2072d",
   "metadata": {},
   "outputs": [
    {
     "data": {
      "text/plain": [
       "<seaborn.axisgrid.FacetGrid at 0x1348da163d0>"
      ]
     },
     "execution_count": 23,
     "metadata": {},
     "output_type": "execute_result"
    },
    {
     "data": {
      "image/png": "[encoded data removed]",
      "text/plain": [
       "<Figure size 360x360 with 1 Axes>"
      ]
     },
     "metadata": {
      "needs_background": "light"
     },
     "output_type": "display_data"
    }
   ],
   "source": [
    "sns.displot(data = df, x = \"Chloramines\", kde = True)"
   ]
  },
  {
   "cell_type": "markdown",
   "id": "2d18f26f",
   "metadata": {},
   "source": [
    "Histogram di atas menunjukkan bahwa data pada kolom Chloramines tidak terdistribusi secara normal. Hal ini dapat dilihat dari bentuk histogram yang tidak menyerupai bell curve."
   ]
  },
  {
   "cell_type": "markdown",
   "id": "74e1ec08",
   "metadata": {},
   "source": [
    "<h3> 3.5 Kolom Sulfate</h3>"
   ]
  },
  {
   "cell_type": "code",
   "execution_count": 24,
   "id": "92abaa8a",
   "metadata": {},
   "outputs": [
    {
     "data": {
      "text/plain": [
       "<seaborn.axisgrid.FacetGrid at 0x1348da16250>"
      ]
     },
     "execution_count": 24,
     "metadata": {},
     "output_type": "execute_result"
    },
    {
     "data": {
      "image/png": "[encoded data removed]",
      "text/plain": [
       "<Figure size 360x360 with 1 Axes>"
      ]
     },
     "metadata": {
      "needs_background": "light"
     },
     "output_type": "display_data"
    }
   ],
   "source": [
    "sns.displot(data = df, x = \"Sulfate\", kde = True)"
   ]
  },
  {
   "cell_type": "markdown",
   "id": "5de33cbd",
   "metadata": {},
   "source": [
    "Histogram di atas menunjukkan bahwa data pada kolom Sulfate tidak terdistribusi secara normal. Hal ini dapat dilihat dari bentuk histogram yang tidak menyerupai bell curve."
   ]
  },
  {
   "cell_type": "markdown",
   "id": "ea89b27d",
   "metadata": {},
   "source": [
    "<h3> 3.6 Kolom Conductivity </h3>"
   ]
  },
  {
   "cell_type": "code",
   "execution_count": 25,
   "id": "fadaffe2",
   "metadata": {},
   "outputs": [
    {
     "data": {
      "text/plain": [
       "<seaborn.axisgrid.FacetGrid at 0x1348dc61be0>"
      ]
     },
     "execution_count": 25,
     "metadata": {},
     "output_type": "execute_result"
    },
    {
     "data": {
      "image/png": "[encoded data removed]",
      "text/plain": [
       "<Figure size 360x360 with 1 Axes>"
      ]
     },
     "metadata": {
      "needs_background": "light"
     },
     "output_type": "display_data"
    }
   ],
   "source": [
    "sns.displot(data = df, x = \"Conductivity\", kde = True)"
   ]
  },
  {
   "cell_type": "markdown",
   "id": "8f13fb39",
   "metadata": {},
   "source": [
    "Histogram di atas menunjukkan bahwa data pada kolom Conductivity tidak terdistribusi secara normal. Hal ini dapat dilihat dari bentuk histogram yang tidak menyerupai bell curve."
   ]
  },
  {
   "cell_type": "markdown",
   "id": "50df1aa3",
   "metadata": {},
   "source": [
    "<h3> 3.7 Kolom Organic Carbon</h3>"
   ]
  },
  {
   "cell_type": "code",
   "execution_count": 26,
   "id": "71f19029",
   "metadata": {},
   "outputs": [
    {
     "data": {
      "text/plain": [
       "<seaborn.axisgrid.FacetGrid at 0x1348dd88520>"
      ]
     },
     "execution_count": 26,
     "metadata": {},
     "output_type": "execute_result"
    },
    {
     "data": {
      "image/png": "[encoded data removed]",
      "text/plain": [
       "<Figure size 360x360 with 1 Axes>"
      ]
     },
     "metadata": {
      "needs_background": "light"
     },
     "output_type": "display_data"
    }
   ],
   "source": [
    "sns.displot(data = df, x = \"OrganicCarbon\", kde = True)"
   ]
  },
  {
   "cell_type": "markdown",
   "id": "c3acba7c",
   "metadata": {},
   "source": [
    "Histogram di atas menunjukkan bahwa data pada kolom OrganicCarbon terdistribusi secara normal. Hal ini dapat dilihat dari bentuk histogram yang menyerupai bell curve."
   ]
  },
  {
   "cell_type": "markdown",
   "id": "91db86ab",
   "metadata": {},
   "source": [
    "<h3> 3.8 Kolom Trihalomethanes </h3>"
   ]
  },
  {
   "cell_type": "code",
   "execution_count": 27,
   "id": "f5b0bd49",
   "metadata": {},
   "outputs": [
    {
     "data": {
      "text/plain": [
       "<seaborn.axisgrid.FacetGrid at 0x1348d4e3e50>"
      ]
     },
     "execution_count": 27,
     "metadata": {},
     "output_type": "execute_result"
    },
    {
     "data": {
      "image/png": "[encoded data removed]",
      "text/plain": [
       "<Figure size 360x360 with 1 Axes>"
      ]
     },
     "metadata": {
      "needs_background": "light"
     },
     "output_type": "display_data"
    }
   ],
   "source": [
    "sns.displot(data = df, x = \"Trihalomethanes\", kde = True)"
   ]
  },
  {
   "cell_type": "markdown",
   "id": "7b91615a",
   "metadata": {},
   "source": [
    "Histogram di atas menunjukkan bahwa data pada kolom Trihalomethanes terdistribusi secara normal. Hal ini dapat dilihat dari bentuk histogram yang menyerupai bell curve."
   ]
  },
  {
   "cell_type": "markdown",
   "id": "ef6727c3",
   "metadata": {},
   "source": [
    "<h3> 3.9 Kolom Turbidity </h3>"
   ]
  },
  {
   "cell_type": "code",
   "execution_count": 28,
   "id": "5d98ee56",
   "metadata": {},
   "outputs": [
    {
     "data": {
      "text/plain": [
       "<seaborn.axisgrid.FacetGrid at 0x1348db070d0>"
      ]
     },
     "execution_count": 28,
     "metadata": {},
     "output_type": "execute_result"
    },
    {
     "data": {
      "image/png": "[encoded data removed]",
      "text/plain": [
       "<Figure size 360x360 with 1 Axes>"
      ]
     },
     "metadata": {
      "needs_background": "light"
     },
     "output_type": "display_data"
    }
   ],
   "source": [
    "sns.displot(data = df, x = \"Turbidity\", kde = True)"
   ]
  },
  {
   "cell_type": "markdown",
   "id": "81350159",
   "metadata": {},
   "source": [
    "Histogram di atas menunjukkan bahwa data pada kolom Turbidity terdistribusi secara normal. Hal ini dapat dilihat dari bentuk histogram yang menyerupai bell curve."
   ]
  },
  {
   "cell_type": "markdown",
   "id": "9f4fcc1b",
   "metadata": {},
   "source": [
    "<h2> 4. Tes Hipotesis Satu Sampel </h2>"
   ]
  },
  {
   "cell_type": "code",
   "execution_count": 29,
   "id": "7ebb4f64",
   "metadata": {},
   "outputs": [],
   "source": [
    "def tvalue(x, mean, std, n):\n",
    "        return (x-mean)*math.sqrt(n)/std\n",
    "\n",
    "def binomial(p1,p0, n):\n",
    "        q0 = 1 - p0\n",
    "        return(p1-p0) / math.sqrt(p0*q0/n)"
   ]
  },
  {
   "cell_type": "markdown",
   "id": "f0bde6bc",
   "metadata": {},
   "source": [
    "<h3> 4.1 Nilai rata-rata pH di atas 7</h3>"
   ]
  },
  {
   "cell_type": "markdown",
   "id": "13ea1afe",
   "metadata": {},
   "source": [
    "1. Tentukan hipotesis nol \n",
    "\n",
    "      $H_0$ : $\\mu$ = 7\n",
    "      \n",
    "2. Tentukan hipotesis alternatif\n",
    "\n",
    "      $H_1$ : $\\mu$ > 7\n",
    "    \n",
    "3. Tentukan tingkat signifikan \n",
    "    \n",
    "      $\\alpha$ = 0.05\n",
    "    \n",
    "4. Tentukan uji statistik yang sesuai dan tentukan daerah kritis.\n",
    "\n",
    "      Uji statistik : One Tail Mean Test\n",
    "      \n",
    "      Daerah kritis : t > $t_{\\alpha}$  :   t > 1.645\n",
    "\n",
    "5. Hitung nilai uji statistik\n",
    "6. t > $t_{\\alpha}$, maka tolak hipotesis null. Jadi **rata-rata pH di atas 7**."
   ]
  },
  {
   "cell_type": "code",
   "execution_count": 30,
   "id": "20d897b8",
   "metadata": {},
   "outputs": [
    {
     "name": "stdout",
     "output_type": "stream",
     "text": [
      "Nilai t : 2.485445147379887\n",
      "Nilai t-alpha : 1.6456124504017113\n",
      "\n",
      "Nilai P-value : 0.006469476288896462\n",
      "H0 ditolak\n"
     ]
    },
    {
     "data": {
      "text/plain": [
       "<AxesSubplot:>"
      ]
     },
     "execution_count": 30,
     "metadata": {},
     "output_type": "execute_result"
    },
    {
     "data": {
      "image/png": "[encoded data removed]",
      "text/plain": [
       "<Figure size 432x288 with 1 Axes>"
      ]
     },
     "metadata": {
      "needs_background": "light"
     },
     "output_type": "display_data"
    }
   ],
   "source": [
    "mean = 7\n",
    "rataan = df['pH'].mean()\n",
    "std = df['pH'].std()\n",
    "n = df['pH'].count()\n",
    "\n",
    "t =  tvalue(rataan, mean, std, n)\n",
    "talpha = s.t.ppf(0.95, n - 1)\n",
    "print(\"Nilai t : \" +str(t))\n",
    "print(\"Nilai t-alpha : \" +str(talpha))\n",
    "\n",
    "pValue = s.norm.sf(abs(t))\n",
    "print(\"\\nNilai P-value :\" , pValue)\n",
    "if (pValue > 0.05) :\n",
    "    print(\"H0 gagal ditolak\")\n",
    "else :\n",
    "    print(\"H0 ditolak\")\n",
    "\n",
    "df.boxplot(column=\"pH\")"
   ]
  },
  {
   "cell_type": "markdown",
   "id": "0a12ca31",
   "metadata": {},
   "source": [
    "<h3> 4.2 Nilai rata-rata Hardness tidak sama dengan 205 </h3>"
   ]
  },
  {
   "cell_type": "markdown",
   "id": "93a9f63c",
   "metadata": {},
   "source": [
    "1. Tentukan hipotesis nol \n",
    "\n",
    "      $H_0$ : $\\mu$ = 205\n",
    "      \n",
    "2. Tentukan hipotesis alternatif\n",
    "\n",
    "      $H_1$ : $\\mu$ $\\neq$ 205\n",
    "    \n",
    "3. Tentukan tingkat signifikan \n",
    "    \n",
    "      $\\alpha$ = 0.05\n",
    "    \n",
    "4. Tentukan uji statistik yang sesuai dan tentukan daerah kritis.\n",
    "\n",
    "      Uji statistik : Two-Tailed Mean Test\n",
    "      \n",
    "      Daerah kritis : t > $t_{\\alpha/2}$ or t < -$t_{\\alpha/2}$ \n",
    "      \n",
    "                  : t > 1.96 or t < -1.96\n",
    "\n",
    "5. Hitung nilai uji statistik\n",
    "6. t < -$t_{\\alpha/2}$, maka tolak hipotesis null. Jadi **rata-rata Hardness tidak sama dengan 205**."
   ]
  },
  {
   "cell_type": "code",
   "execution_count": 31,
   "id": "eba71af2",
   "metadata": {},
   "outputs": [
    {
     "name": "stdout",
     "output_type": "stream",
     "text": [
      "Nilai t : -12.403137170010732\n",
      "Nilai t(alpha/2) : 1.9611455060885261\n",
      "\n",
      "Nilai P-value : 1.2564452447572327e-35\n",
      "H0 ditolak\n"
     ]
    },
    {
     "data": {
      "text/plain": [
       "<AxesSubplot:>"
      ]
     },
     "execution_count": 31,
     "metadata": {},
     "output_type": "execute_result"
    },
    {
     "data": {
      "image/png": "[encoded data removed]",
      "text/plain": [
       "<Figure size 432x288 with 1 Axes>"
      ]
     },
     "metadata": {
      "needs_background": "light"
     },
     "output_type": "display_data"
    }
   ],
   "source": [
    "mean = 205\n",
    "rataan = df['Hardness'].mean()\n",
    "std = df['Hardness'].std()\n",
    "n = df['Hardness'].count()\n",
    "\n",
    "print(\"Nilai t : \" + str(tvalue(rataan, mean, std, n)))\n",
    "print(\"Nilai t(alpha/2) : \" + str(s.t.ppf(0.975, n - 1)))\n",
    "\n",
    "pValue = s.norm.sf(abs(tvalue(rataan, mean, std, n)))\n",
    "print(\"\\nNilai P-value :\" , pValue)\n",
    "if (pValue > 0.05) :\n",
    "    print(\"H0 gagal ditolak\")\n",
    "else :\n",
    "    print(\"H0 ditolak\")\n",
    "\n",
    "df.boxplot(column=\"Hardness\")"
   ]
  },
  {
   "cell_type": "markdown",
   "id": "17c0dc21",
   "metadata": {},
   "source": [
    "<h3> 4.3 Nilai rata-rata 100 baris pertama kolom Solids bukan 21900 </h3>"
   ]
  },
  {
   "cell_type": "markdown",
   "id": "7f6f4e94",
   "metadata": {},
   "source": [
    "1. Tentukan hipotesis nol \n",
    "\n",
    "      $H_0$ : $\\mu$ = 21900\n",
    "      \n",
    "2. Tentukan hipotesis alternatif\n",
    "\n",
    "      $H_1$ : $\\mu$ $\\neq$ 21900\n",
    "    \n",
    "3. Tentukan tingkat signifikan \n",
    "    \n",
    "      $\\alpha$ = 0.05\n",
    "    \n",
    "4. Tentukan uji statistik yang sesuai dan tentukan daerah kritis.\n",
    "\n",
    "      Uji statistik : Two Tailed Mean Test\n",
    "      \n",
    "      Daerah kritis : t > $t_{\\alpha/2}$ or t < -$t_{\\alpha/2}$ \n",
    "                    : t > 1.98 or t < -1.98\n",
    "\n",
    "5. Hitung nilai uji statistik\n",
    "6. t tidak berada pada daerah kritis. Hipotesis nol gagal ditolak sehingga **tidak cukup bukti** untuk menyimpulkan bahwa rata-rata 100 baris pertama kolom Solids bukan 21900."
   ]
  },
  {
   "cell_type": "code",
   "execution_count": 50,
   "id": "d5ebcf2d",
   "metadata": {},
   "outputs": [
    {
     "name": "stdout",
     "output_type": "stream",
     "text": [
      "Nilai t : 0.5636797715721551\n",
      "Nilai t(alpha/2) : 1.9842169515086827\n",
      "\n",
      "Nilai P-value : 0.5729720864655174\n",
      "H0 gagal ditolak\n"
     ]
    },
    {
     "data": {
      "text/plain": [
       "<AxesSubplot:>"
      ]
     },
     "execution_count": 50,
     "metadata": {},
     "output_type": "execute_result"
    },
    {
     "data": {
      "image/png": "[encoded data removed]",
      "text/plain": [
       "<Figure size 432x288 with 1 Axes>"
      ]
     },
     "metadata": {
      "needs_background": "light"
     },
     "output_type": "display_data"
    }
   ],
   "source": [
    "sampel = df['Solids'].head(100)\n",
    "mean = 21900\n",
    "rataan = sampel.mean()\n",
    "std = sampel.std()\n",
    "n = sampel.size\n",
    "\n",
    "print(\"Nilai t : \" + str(tvalue(rataan, mean, std, n)))\n",
    "print(\"Nilai t(alpha/2) : \" + str(s.t.ppf(0.975, n - 1)))\n",
    "\n",
    "pValue = 2*s.norm.sf(abs(tvalue(rataan, mean, std, n)))\n",
    "print(\"\\nNilai P-value :\" , pValue)\n",
    "if (pValue > 0.05) :\n",
    "    print(\"H0 gagal ditolak\")\n",
    "else :\n",
    "    print(\"H0 ditolak\")\n",
    "\n",
    "df.head(100).boxplot(column=\"Solids\")"
   ]
  },
  {
   "cell_type": "markdown",
   "id": "27901a79",
   "metadata": {},
   "source": [
    "<h3> 4.4 Proporsi nilai Conductivity yang lebih dari 450, adalah tidak sama dengan 10% </h3>"
   ]
  },
  {
   "cell_type": "markdown",
   "id": "0495fab5",
   "metadata": {},
   "source": [
    "1. Tentukan hipotesis nol \n",
    "\n",
    "      $H_0$ : $p$ = 0.1\n",
    "      \n",
    "2. Tentukan hipotesis alternatif\n",
    "\n",
    "      $H_1$ : $p$ $\\neq$ 0.1\n",
    "    \n",
    "3. Tentukan tingkat signifikan \n",
    "    \n",
    "      $\\alpha$ = 0.05\n",
    "    \n",
    "4. Tentukan uji statistik yang sesuai dan tentukan daerah kritis.\n",
    "\n",
    "      Uji statistik : Uji Variabel Binomial X dengan p = p0\n",
    "      \n",
    "      Daerah kritis : z > $z_{\\alpha/2}$ or z < -$z_{\\alpha/2}$ \n",
    "                    : z > 1.96 or z < -1.96\n",
    "\n",
    "5. z > $z_{\\alpha/2}$. Hipotesis nol ditolak sehingga **Proporsi nilai Conductivity yang lebih dari 450, adalah tidak sama dengan 10%**."
   ]
  },
  {
   "cell_type": "code",
   "execution_count": 33,
   "id": "259aa5e3",
   "metadata": {},
   "outputs": [
    {
     "name": "stdout",
     "output_type": "stream",
     "text": [
      "Nilai z : 40.44637613158932\n",
      "Nilai z(alpha/2) : 1.959963984540054\n",
      "\n",
      "Nilai P-value : 0.0\n",
      "H0 ditolak\n"
     ]
    },
    {
     "data": {
      "text/plain": [
       "<AxesSubplot:>"
      ]
     },
     "execution_count": 33,
     "metadata": {},
     "output_type": "execute_result"
    },
    {
     "data": {
      "image/png": "[encoded data removed]",
      "text/plain": [
       "<Figure size 432x288 with 1 Axes>"
      ]
     },
     "metadata": {
      "needs_background": "light"
     },
     "output_type": "display_data"
    }
   ],
   "source": [
    "sampel = df['Conductivity'].loc[df['Conductivity'] > 450]\n",
    "p0 = 0.1\n",
    "q0 = 1 - p0\n",
    "n_sampel = sampel.size\n",
    "n = df['Conductivity'].size\n",
    "p1 = n_sampel / n\n",
    "\n",
    "z = (p1-p0) / math.sqrt(p0*q0/n)\n",
    "zalpha = s.norm.ppf(0.975)\n",
    "print(\"Nilai z : \" + str(z))\n",
    "print(\"Nilai z(alpha/2) : \" + str(zalpha))\n",
    "\n",
    "pValue = s.norm.sf(abs(z))\n",
    "print(\"\\nNilai P-value :\" , pValue)\n",
    "if (pValue > 0.05) :\n",
    "    print(\"H0 gagal ditolak\")\n",
    "else :\n",
    "    print(\"H0 ditolak\")\n",
    "\n",
    "df.boxplot(column=\"Conductivity\")"
   ]
  },
  {
   "cell_type": "markdown",
   "id": "336b6983",
   "metadata": {},
   "source": [
    "<h3> 4.5 Proporsi nilai Trihalomethanes yang kurang dari 40, adalah kurang dari 5% </h3>"
   ]
  },
  {
   "cell_type": "markdown",
   "id": "cab7abcc",
   "metadata": {},
   "source": [
    "1. Tentukan hipotesis nol \n",
    "\n",
    "      $H_0$ : $p$ = 0.05\n",
    "      \n",
    "2. Tentukan hipotesis alternatif\n",
    "\n",
    "      $H_1$ : $p$ < 0.05 (one-tailed test)\n",
    "    \n",
    "3. Tentukan tingkat signifikan \n",
    "    \n",
    "      $\\alpha$ = 0.05\n",
    "    \n",
    "4. Tentukan uji statistik yang sesuai dan tentukan daerah kritis.\n",
    "\n",
    "      Uji statistik : Uji Variabel Binomial X dengan p = p0\n",
    "\n",
    "      Daerah kritis : z < -$z_\\alpha$ : z < -1.645\n",
    "\n",
    "5. Hitung nilai uji statistik\n",
    "6. z tidak berada pada daerah kritis. Hipotesis nol gagal ditolak sehingga **tidak cukup bukti** untuk menyimpulkan bahwa Proporsi nilai Trihalomethanes yang kurang dari 40, adalah kurang dari 5%"
   ]
  },
  {
   "cell_type": "code",
   "execution_count": 51,
   "id": "7d6395ee",
   "metadata": {},
   "outputs": [
    {
     "name": "stdout",
     "output_type": "stream",
     "text": [
      "Nilai z : 0.5628826416670951\n",
      "Nilai zalpha : 1.6448536269514722\n",
      "\n",
      "Nilai P-value : 0.286757400490763\n",
      "H0 gagal ditolak\n"
     ]
    },
    {
     "data": {
      "text/plain": [
       "<AxesSubplot:>"
      ]
     },
     "execution_count": 51,
     "metadata": {},
     "output_type": "execute_result"
    },
    {
     "data": {
      "image/png": "[encoded data removed]",
      "text/plain": [
       "<Figure size 432x288 with 1 Axes>"
      ]
     },
     "metadata": {
      "needs_background": "light"
     },
     "output_type": "display_data"
    }
   ],
   "source": [
    "sampel = df['Trihalomethanes'].loc[df['Trihalomethanes'] < 40]\n",
    "p0 = 0.05\n",
    "q0 = 1 - p0\n",
    "n_sampel = sampel.size\n",
    "n = df['Trihalomethanes'].size\n",
    "zalpha = s.norm.ppf(0.95)\n",
    "p1 = n_sampel / n\n",
    "\n",
    "z = (p1-p0) / math.sqrt(p0*q0/n)\n",
    "\n",
    "print(\"Nilai z : \" + str(z))\n",
    "print(\"Nilai zalpha : \" + str(zalpha))\n",
    "\n",
    "pValue = s.norm.sf(abs(z))\n",
    "print(\"\\nNilai P-value :\" , pValue)\n",
    "if (pValue > 0.05) :\n",
    "    print(\"H0 gagal ditolak\")\n",
    "else :\n",
    "    print(\"H0 ditolak\")\n",
    "\n",
    "df.loc[df['Trihalomethanes'] < 40].boxplot(column=\"Trihalomethanes\")"
   ]
  },
  {
   "cell_type": "markdown",
   "id": "7c8916fd",
   "metadata": {},
   "source": [
    "<h2> 5. Test Hipotesis 2 Sampel </h2>"
   ]
  },
  {
   "cell_type": "code",
   "execution_count": 35,
   "id": "68a1f2cd",
   "metadata": {},
   "outputs": [],
   "source": [
    "def tvalue_twomean(d0, x1, x2, s1, s2, n1, n2):\n",
    "    sp =  math.sqrt( ( (n1-1)*s1*s1  + (n2-1)*s2*s2) / (n1+n2-2))\n",
    "    return((x1 - x2) - d0)/(sp*math.sqrt((1/n1) + (1/n2))) "
   ]
  },
  {
   "cell_type": "markdown",
   "id": "d07fda25",
   "metadata": {},
   "source": [
    "<h3> 5.1 Data kolom Sulfate dibagi 2 sama rata: bagian awal dan akhir kolom. Benarkah rata-rata kedua bagian tersebut sama? </h3>"
   ]
  },
  {
   "cell_type": "markdown",
   "id": "f60f4d66",
   "metadata": {},
   "source": [
    "1. Tentukan hipotesis nol \n",
    "\n",
    "      $H_0$ : $\\mu_1$ = $\\mu_2$ \n",
    "\n",
    "2. Tentukan hipotesis alternatif\n",
    "\n",
    "      $H_1$ : $\\mu_1$ $\\neq$ $\\mu_2$ \n",
    "    \n",
    "3. Tentukan tingkat signifikan \n",
    "    \n",
    "      $\\alpha$ = 0.05\n",
    "    \n",
    "4. Tentukan uji statistik yang sesuai dan tentukan daerah kritis.\n",
    "\n",
    "      Uji statistik : Two Sample Two-Tailed Mean Test\n",
    "\n",
    "      Daerah kritis : t < -$t_{\\alpha/2}$ or t > $t_{\\alpha/2}$ : t < -1.96 or t > 1.96\n",
    "\n",
    "5. Hitung nilai uji statistik\n",
    "6. Nilai t < -1.96, maka tolak hipotesis null. Jadi **rata-rata kedua bagian tidak sama**"
   ]
  },
  {
   "cell_type": "code",
   "execution_count": 36,
   "id": "4838b0d6",
   "metadata": {},
   "outputs": [
    {
     "name": "stdout",
     "output_type": "stream",
     "text": [
      "Nilai t : -2.0752690696871983\n",
      "Nilai t(alpha/2) : 1.9611455060885261\n",
      "Nilai P-value : 0.0379616043851286\n",
      "H0 ditolak\n"
     ]
    },
    {
     "data": {
      "text/plain": [
       "Text(0.5, 1.0, 'Bagian Akhir')"
      ]
     },
     "execution_count": 36,
     "metadata": {},
     "output_type": "execute_result"
    },
    {
     "data": {
      "image/png": "[encoded data removed]",
      "text/plain": [
       "<Figure size 432x288 with 2 Axes>"
      ]
     },
     "metadata": {
      "needs_background": "light"
     },
     "output_type": "display_data"
    }
   ],
   "source": [
    "sampel = df['Sulfate']\n",
    "\n",
    "d0 = 0\n",
    "\n",
    "talpha = s.t.ppf(0.975, sampel.size - 1)\n",
    "bagian1 = sampel.head(sampel.size // 2)\n",
    "bagian2 = sampel.tail(sampel.size // 2)\n",
    "\n",
    "mean1 = bagian1.mean()\n",
    "mean2 = bagian2.mean()\n",
    "\n",
    "std1 = bagian1.std()\n",
    "std2 = bagian2.std()\n",
    "t = tvalue_twomean(d0, mean1, mean2, std1, std2, bagian1.size, bagian2.size)\n",
    "\n",
    "print(\"Nilai t : \" + str(t))\n",
    "print(\"Nilai t(alpha/2) : \" + str(talpha))\n",
    "pValue = 2*s.norm.sf(abs(t))\n",
    "print(\"Nilai P-value :\" , pValue)\n",
    "if (pValue > 0.05) :\n",
    "    print(\"H0 gagal ditolak\")\n",
    "else :\n",
    "    print(\"H0 ditolak\")\n",
    "\n",
    "plt.subplots_adjust(left=2, right=4, wspace=0.5)\n",
    "plt.subplot(121)\n",
    "df.head(1005).boxplot(\"Sulfate\").set_title(\"Bagian Awal\")\n",
    "plt.subplot(122)\n",
    "df.tail(1005).boxplot(\"Sulfate\").set_title(\"Bagian Akhir\")"
   ]
  },
  {
   "cell_type": "markdown",
   "id": "7ea5e58f",
   "metadata": {},
   "source": [
    "<h3> 5.2 Data kolom Organic Carbon dibagi 2 sama rata: bagian awal dan bagian akhir kolom. Benarkah rata-rata bagian awal lebih besar dari bagian akhir sebesar 0.15?</h3>"
   ]
  },
  {
   "cell_type": "markdown",
   "id": "a1b601d7",
   "metadata": {},
   "source": [
    "1. Tentukan hipotesis nol \n",
    "\n",
    "      $H_0$ : $\\mu_1$ - $\\mu_2$ = 0.15\n",
    "\n",
    "2. Tentukan hipotesis alternatif\n",
    "\n",
    "      $H_1$ : $\\mu_1$ - $\\mu_2$ $\\neq$ 0.15 \n",
    "    \n",
    "3. Tentukan tingkat signifikan \n",
    "    \n",
    "      $\\alpha$ = 0.05\n",
    "    \n",
    "4. Tentukan uji statistik yang sesuai dan tentukan daerah kritis.\n",
    "\n",
    "      Uji statistik : Two Sample Two-Tailed Mean Test\n",
    "\n",
    "      Daerah kritis : t < -$t_{\\alpha/2}$ or t > $t_{\\alpha/2}$ : t < -1.96 or t > 1.96\n",
    "\n",
    "5. Hitung nilai uji statistik\n",
    "6. Nilai t < -1.96, maka tolak hipotesis null. Jadi **rata-rata bagian awal tidak lebih besar dari bagian akhir sebesar 0.15**"
   ]
  },
  {
   "cell_type": "code",
   "execution_count": 37,
   "id": "54691d0e",
   "metadata": {},
   "outputs": [
    {
     "name": "stdout",
     "output_type": "stream",
     "text": [
      "Nilai t : -2.413145517798807\n",
      "Nilai t(alpha/2) : 1.9611455060885261\n",
      "Nilai P-value : 0.01581550381760006\n",
      "H0 ditolak\n"
     ]
    },
    {
     "data": {
      "text/plain": [
       "Text(0.5, 1.0, 'Bagian Akhir')"
      ]
     },
     "execution_count": 37,
     "metadata": {},
     "output_type": "execute_result"
    },
    {
     "data": {
      "image/png": "[encoded data removed]",
      "text/plain": [
       "<Figure size 432x288 with 2 Axes>"
      ]
     },
     "metadata": {
      "needs_background": "light"
     },
     "output_type": "display_data"
    }
   ],
   "source": [
    "sampel = df['OrganicCarbon']\n",
    "\n",
    "d0 = 0.15\n",
    "\n",
    "talpha = s.t.ppf(0.975, sampel.size - 1)\n",
    "bagian1 = sampel.head(sampel.size // 2)\n",
    "bagian2 = sampel.tail(sampel.size // 2)\n",
    "\n",
    "mean1 = bagian1.mean()\n",
    "mean2 = bagian2.mean()\n",
    "\n",
    "std1 = bagian1.std()\n",
    "std2 = bagian2.std()\n",
    "t = tvalue_twomean(d0, mean1, mean2, std1, std2, bagian1.size, bagian2.size)\n",
    "\n",
    "print(\"Nilai t : \" + str(t))\n",
    "print(\"Nilai t(alpha/2) : \" + str(talpha))\n",
    "pValue = 2*s.norm.sf(abs(t))\n",
    "print(\"Nilai P-value :\" , pValue)\n",
    "if (pValue > 0.05) :\n",
    "    print(\"H0 gagal ditolak\")\n",
    "else :\n",
    "    print(\"H0 ditolak\")\n",
    "\n",
    "plt.subplots_adjust(left=2, right=4, wspace=0.5)\n",
    "plt.subplot(121)\n",
    "df.head(1005).boxplot(\"OrganicCarbon\").set_title(\"Bagian Awal\")\n",
    "plt.subplot(122)\n",
    "df.tail(1005).boxplot(\"OrganicCarbon\").set_title(\"Bagian Akhir\")"
   ]
  },
  {
   "cell_type": "markdown",
   "id": "d368642b",
   "metadata": {},
   "source": [
    "<h3> 5.3 Rata-rata 100 baris pertama kolom Chloramines sama dengan 100 baris terakhirnya? </h3>"
   ]
  },
  {
   "cell_type": "markdown",
   "id": "c16f8b49",
   "metadata": {},
   "source": [
    "1. Tentukan hipotesis nol \n",
    "\n",
    "      $H_0$ : $\\mu_1$ - $\\mu_2$ = 0\n",
    "\n",
    "2. Tentukan hipotesis alternatif\n",
    "\n",
    "      $H_1$ : $\\mu_1$  $\\neq$ $\\mu_2$  \n",
    "    \n",
    "3. Tentukan tingkat signifikan \n",
    "    \n",
    "      $\\alpha$ = 0.05\n",
    "    \n",
    "4. Tentukan uji statistik yang sesuai dan tentukan daerah kritis.\n",
    "\n",
    "      Uji statistik : Two Sample Two-Tailed Mean Test\n",
    "\n",
    "      Daerah kritis : t < -$t_{\\alpha/2}$ or t > $t_{\\alpha/2}$ : t < -1.96 or t > 1.96\n",
    "\n",
    "5. Hitung nilai uji statistik\n",
    "6. Nilai t tidak berada pada daerah kritis. **Hipotesis nol gagal ditolak sehingga tidak cukup bukti untuk menyimpulkan bahwa Rata-rata 100 baris pertama kolom Chloramines sama dengan 100 baris terakhirnya**"
   ]
  },
  {
   "cell_type": "code",
   "execution_count": 38,
   "id": "5b64918c",
   "metadata": {},
   "outputs": [
    {
     "name": "stdout",
     "output_type": "stream",
     "text": [
      "Nilai t : -0.7059424842236872\n",
      "Nilai t(alpha/2) : 1.9611455060885261\n",
      "Nilai P-value : 0.48022390604502796\n",
      "H0 gagal ditolak\n"
     ]
    },
    {
     "data": {
      "text/plain": [
       "Text(0.5, 1.0, 'Bagian Akhir')"
      ]
     },
     "execution_count": 38,
     "metadata": {},
     "output_type": "execute_result"
    },
    {
     "data": {
      "image/png": "[encoded data removed]",
      "text/plain": [
       "<Figure size 432x288 with 2 Axes>"
      ]
     },
     "metadata": {
      "needs_background": "light"
     },
     "output_type": "display_data"
    }
   ],
   "source": [
    "sampel = df['Chloramines']\n",
    "\n",
    "d0 = 0\n",
    "\n",
    "talpha = s.t.ppf(0.975, sampel.size - 1)\n",
    "bagian1 = sampel.head(100)\n",
    "bagian2 = sampel.tail(100)\n",
    "\n",
    "mean1 = bagian1.mean()\n",
    "mean2 = bagian2.mean()\n",
    "\n",
    "std1 = bagian1.std()\n",
    "std2 = bagian2.std()\n",
    "t = tvalue_twomean(d0, mean1, mean2, std1, std2, bagian1.size, bagian2.size)\n",
    "\n",
    "print(\"Nilai t : \" + str(t))\n",
    "print(\"Nilai t(alpha/2) : \" + str(talpha))\n",
    "pValue = 2*s.norm.sf(abs(t))\n",
    "print(\"Nilai P-value :\" , pValue)\n",
    "if (pValue > 0.05) :\n",
    "    print(\"H0 gagal ditolak\")\n",
    "else :\n",
    "    print(\"H0 ditolak\")\n",
    "\n",
    "plt.subplots_adjust(left=2, right=4, wspace=0.5)\n",
    "plt.subplot(121)\n",
    "df.head(100).boxplot(\"Chloramines\").set_title(\"Bagian Awal\")\n",
    "plt.subplot(122)\n",
    "df.tail(100).boxplot(\"Chloramines\").set_title(\"Bagian Akhir\")"
   ]
  },
  {
   "cell_type": "markdown",
   "id": "e44fe733",
   "metadata": {},
   "source": [
    "<h3> 5.4 Proporsi nilai bagian awal Turbility yang lebih dari 4, adalah lebih besar daripada, proporsi nilai yang sama di bagian akhir Turbility</h3>"
   ]
  },
  {
   "cell_type": "markdown",
   "id": "3b2419f9",
   "metadata": {},
   "source": [
    "1. Tentukan hipotesis nol \n",
    "\n",
    "      $H_0$ : $p_1$ - $p_2$ = 0\n",
    "\n",
    "2. Tentukan hipotesis alternatif\n",
    "\n",
    "      $H_1$ : $p_1$ - $p_2$  > 0\n",
    "    \n",
    "3. Tentukan tingkat signifikan \n",
    "    \n",
    "      $\\alpha$ = 0.05\n",
    "    \n",
    "4. Tentukan uji statistik yang sesuai dan tentukan daerah kritis.\n",
    "\n",
    "      Uji statistik : Uji statistik satu parameter populasi pengujian proporsi dua sampel one-tailed tes normal\n",
    "\n",
    "      Daerah kritis :z > $z_{\\alpha}$ : z > 1.645\n",
    "\n",
    "5. Hitung nilai uji statistik\n",
    "6. Nilai z tidak berada pada daerah kritis. **Hipotesis nol gagal ditolak sehingga tidak cukup bukti untuk menyimpulkan bahwa Proporsi nilai bagian awal Turbidity yang lebih dari 4, adalah lebih besar daripada, proporsi nilai yang sama di bagian akhir Turbidity**"
   ]
  },
  {
   "cell_type": "code",
   "execution_count": 52,
   "id": "36cfaec0",
   "metadata": {},
   "outputs": [
    {
     "name": "stdout",
     "output_type": "stream",
     "text": [
      "Nilai z : -0.13388958661778735\n",
      "Nilai z(alpha) : 1.6448536269514722\n",
      "Nilai P-value : 0.4467449424088169\n",
      "H0 gagal ditolak\n"
     ]
    },
    {
     "data": {
      "text/plain": [
       "Text(0.5, 1.0, 'Bagian Akhir')"
      ]
     },
     "execution_count": 52,
     "metadata": {},
     "output_type": "execute_result"
    },
    {
     "data": {
      "image/png": "[encoded data removed]",
      "text/plain": [
       "<Figure size 432x288 with 2 Axes>"
      ]
     },
     "metadata": {
      "needs_background": "light"
     },
     "output_type": "display_data"
    }
   ],
   "source": [
    "sampel = df['Turbidity']\n",
    "\n",
    "zalpha = s.norm.ppf(0.95)\n",
    "bagian1 = sampel.head(sampel.size // 2).loc[sampel > 4]\n",
    "bagian2 = sampel.tail(sampel.size // 2).loc[sampel > 4]\n",
    "\n",
    "p1 = bagian1.size/ (sampel.size //2)\n",
    "p2 = bagian2.size/ (sampel.size //2)\n",
    "\n",
    "p = (bagian1.size + bagian2.size) / sampel.size\n",
    "q = 1-p\n",
    "\n",
    "z = (p1 - p2) / (math.sqrt(p*q *( (1/(sampel.size//2)) + (1/(sampel.size//2))  )))\n",
    "\n",
    "print(\"Nilai z : \" + str(z))\n",
    "print(\"Nilai z(alpha) : \" + str(zalpha))\n",
    "\n",
    "pValue = s.norm.sf(abs(z))\n",
    "print(\"Nilai P-value :\" , pValue)\n",
    "if (pValue > 0.05) :\n",
    "    print(\"H0 gagal ditolak\")\n",
    "else :\n",
    "    print(\"H0 ditolak\")\n",
    "\n",
    "\n",
    "plt.subplots_adjust(left=2, right=4, wspace=0.5)\n",
    "plt.subplot(121)\n",
    "df.head(1005).loc[sampel > 4].boxplot(\"Turbidity\").set_title(\"Bagian Awal\")\n",
    "plt.subplot(122)\n",
    "df.tail(1005).loc[sampel > 4].boxplot(\"Turbidity\").set_title(\"Bagian Akhir\")"
   ]
  },
  {
   "cell_type": "markdown",
   "id": "53e19f91",
   "metadata": {},
   "source": [
    "<h3> 5.5 Bagian awal kolom Sulfate memiliki variansi yang sama dengan bagian akhirnya </h3>"
   ]
  },
  {
   "cell_type": "markdown",
   "id": "2cedcb1f",
   "metadata": {},
   "source": [
    "1. Tentukan hipotesis nol \n",
    "\n",
    "      $H_0$ : $\\sigma^2_1$ = $\\sigma^2_2$ \n",
    "\n",
    "2. Tentukan hipotesis alternatif\n",
    "\n",
    "      $H_1$ : $\\sigma^2_1$ $\\neq$ $\\sigma^2_2$\n",
    "    \n",
    "3. Tentukan tingkat signifikan \n",
    "    \n",
    "      $\\alpha$ = 0.05\n",
    "    \n",
    "4. Tentukan uji statistik yang sesuai dan tentukan daerah kritis.\n",
    "\n",
    "      Uji statistik : Distribusi F\n",
    "\n",
    "      Daerah kritis : f < $f_{1-{\\alpha/2}(v1,v2)}$ or f > $f_{\\alpha/2(v1,v2)}$: f < 0.883 or f > 1.131\n",
    "\n",
    "5. Hitung nilai uji statistik\n",
    "6. Nilai f tidak berada pada daerah kritis, maka terima hipotesis null. **Hipotesis nol gagal ditolak sehingga tidak cukup bukti untuk menyimpulkan bahwa Bagian awal kolom Sulfate memiliki variansi yang sama dengan bagian akhirnya**"
   ]
  },
  {
   "cell_type": "code",
   "execution_count": 40,
   "id": "778aa8a6",
   "metadata": {},
   "outputs": [
    {
     "name": "stdout",
     "output_type": "stream",
     "text": [
      "nilai f : 1.0075966972926254\n",
      "Nilai P-value : 0.5477067289575377\n",
      "H0 gagal ditolak\n"
     ]
    },
    {
     "data": {
      "text/plain": [
       "Text(0.5, 1.0, 'Bagian Akhir')"
      ]
     },
     "execution_count": 40,
     "metadata": {},
     "output_type": "execute_result"
    },
    {
     "data": {
      "image/png": "[encoded data removed]",
      "text/plain": [
       "<Figure size 432x288 with 2 Axes>"
      ]
     },
     "metadata": {
      "needs_background": "light"
     },
     "output_type": "display_data"
    }
   ],
   "source": [
    "sampel = df['Sulfate']\n",
    "\n",
    "zalpha = s.norm.ppf(0.95)\n",
    "bagian1 = sampel.head(sampel.size // 2)\n",
    "bagian2 = sampel.tail(sampel.size // 2)\n",
    "\n",
    "std1 = bagian1.std()\n",
    "std2 = bagian2.std()\n",
    "\n",
    "if std1 > std2 :\n",
    "    f = std1 / std2\n",
    "else:\n",
    "    f = std2 / std1\n",
    "\n",
    "f1 = s.f.ppf(1 - 0.025, bagian1.size - 1, bagian2.size - 1)\n",
    "f2 = s.f.ppf(0.025, bagian1.size - 1, bagian2.size - 1)\n",
    "print(\"nilai f : \" + str(f) )\n",
    "\n",
    "pValue = s.f.cdf(f, bagian1.size - 1, bagian2.size - 1)\n",
    "print(\"Nilai P-value :\" , pValue)\n",
    "if (pValue > 0.05) :\n",
    "    print(\"H0 gagal ditolak\")\n",
    "else :\n",
    "    print(\"H0 ditolak\")\n",
    "    \n",
    "plt.subplots_adjust(left=2, right=4, wspace=0.5)\n",
    "plt.subplot(121)\n",
    "df.head(1005).boxplot(\"Turbidity\").set_title(\"Bagian Awal\")\n",
    "plt.subplot(122)\n",
    "df.tail(1005).boxplot(\"Turbidity\").set_title(\"Bagian Akhir\")"
   ]
  },
  {
   "cell_type": "markdown",
   "id": "a0e1fd22",
   "metadata": {},
   "source": [
    "<h2> 6. Test Korelasi </h2>"
   ]
  },
  {
   "cell_type": "markdown",
   "id": "7838eb6b",
   "metadata": {},
   "source": [
    "Rule Korelasi:\n",
    "1. Semakin mendekati 0, semakin dua kolom tidak berkorelasi\n",
    "2. Semakin mendekati 1, semakin dua kolom berbanding lurus\n",
    "3. Semakin mendekati -1, semakin dua kolom berbanding terbalik"
   ]
  },
  {
   "cell_type": "markdown",
   "id": "5f451835",
   "metadata": {},
   "source": [
    "<h3>6.1 Korelasi Kolom pH dengan Kolom Target (Potability) </h3>"
   ]
  },
  {
   "cell_type": "code",
   "execution_count": 41,
   "id": "8cad2426",
   "metadata": {},
   "outputs": [
    {
     "name": "stdout",
     "output_type": "stream",
     "text": [
      "Kolerasi kolom pH dengan kolom Target adalah: 0.01547509440843348\n"
     ]
    },
    {
     "data": {
      "image/png": "[encoded data removed]",
      "text/plain": [
       "<Figure size 432x288 with 1 Axes>"
      ]
     },
     "metadata": {
      "needs_background": "light"
     },
     "output_type": "display_data"
    }
   ],
   "source": [
    "col_ph = df[\"pH\"]\n",
    "col_target = df[\"Potability\"]\n",
    "corr_ph_target = col_ph.corr(col_target)\n",
    "\n",
    "sns.regplot(col_ph, col_target)\n",
    "print(\"Kolerasi kolom pH dengan kolom Target adalah:\", corr_ph_target)"
   ]
  },
  {
   "cell_type": "markdown",
   "id": "ef45c7ec",
   "metadata": {},
   "source": [
    "<strong>Kesimpulan</strong>:\n",
    "Dikarenakan nilai korelasi antara kolom pH dengan kolom Target mendekati 0, maka dapat dikatakan bahwa kedua kolom tersebut tidak berkolerasi"
   ]
  },
  {
   "cell_type": "markdown",
   "id": "913d161b",
   "metadata": {},
   "source": [
    "<h3>6.2 Korelasi Kolom Hardness dengan Kolom Target (Potability)</h3>"
   ]
  },
  {
   "cell_type": "code",
   "execution_count": 42,
   "id": "213b933a",
   "metadata": {},
   "outputs": [
    {
     "name": "stdout",
     "output_type": "stream",
     "text": [
      "Kolerasi kolom Hardness dengan kolom Target adalah: -0.0014631528959479344\n"
     ]
    },
    {
     "data": {
      "image/png": "[encoded data removed]",
      "text/plain": [
       "<Figure size 432x288 with 1 Axes>"
      ]
     },
     "metadata": {
      "needs_background": "light"
     },
     "output_type": "display_data"
    }
   ],
   "source": [
    "col_hardness = df[\"Hardness\"]\n",
    "col_target = df[\"Potability\"]\n",
    "corr_hardness_target = col_hardness.corr(col_target)\n",
    "\n",
    "sns.regplot(col_hardness, col_target)\n",
    "print(\"Kolerasi kolom Hardness dengan kolom Target adalah:\", corr_hardness_target)"
   ]
  },
  {
   "cell_type": "markdown",
   "id": "1209943e",
   "metadata": {},
   "source": [
    "<strong>Kesimpulan</strong>:\n",
    "Dikarenakan nilai korelasi antara kolom Hardness dengan kolom Target mendekati 0, maka dapat dikatakan bahwa kedua kolom tersebut tidak berkolerasi"
   ]
  },
  {
   "cell_type": "markdown",
   "id": "2f102140",
   "metadata": {},
   "source": [
    "<h3>6.3 Korelasi Kolom Solids dengan Kolom Target (Potability)</h3>"
   ]
  },
  {
   "cell_type": "code",
   "execution_count": 43,
   "id": "932d74b8",
   "metadata": {},
   "outputs": [
    {
     "name": "stdout",
     "output_type": "stream",
     "text": [
      "Kolerasi kolom Solids dengan kolom Target adalah: 0.03897657818173466\n"
     ]
    },
    {
     "data": {
      "image/png": "[encoded data removed]",
      "text/plain": [
       "<Figure size 432x288 with 1 Axes>"
      ]
     },
     "metadata": {
      "needs_background": "light"
     },
     "output_type": "display_data"
    }
   ],
   "source": [
    "col_solids = df[\"Solids\"]\n",
    "col_target = df[\"Potability\"]\n",
    "corr_solids_target = col_solids.corr(col_target)\n",
    "\n",
    "sns.regplot(col_solids, col_target)\n",
    "print(\"Kolerasi kolom Solids dengan kolom Target adalah:\", corr_solids_target)"
   ]
  },
  {
   "cell_type": "markdown",
   "id": "c266d23c",
   "metadata": {},
   "source": [
    "<strong>Kesimpulan</strong>:\n",
    "Dikarenakan nilai korelasi antara kolom Solids dengan kolom Target mendekati 0, maka dapat dikatakan bahwa kedua kolom tersebut tidak berkolerasi"
   ]
  },
  {
   "cell_type": "markdown",
   "id": "6482453d",
   "metadata": {},
   "source": [
    "<h3>6.4 Korelasi Kolom Chloramines dengan Kolom Target (Potability)</h3>"
   ]
  },
  {
   "cell_type": "code",
   "execution_count": 44,
   "id": "a9dfcf70",
   "metadata": {},
   "outputs": [
    {
     "name": "stdout",
     "output_type": "stream",
     "text": [
      "Kolerasi kolom Chloramines dengan kolom Target adalah: 0.02077892184052409\n"
     ]
    },
    {
     "data": {
      "image/png": "[encoded data removed]",
      "text/plain": [
       "<Figure size 432x288 with 1 Axes>"
      ]
     },
     "metadata": {
      "needs_background": "light"
     },
     "output_type": "display_data"
    }
   ],
   "source": [
    "col_chloramines = df[\"Chloramines\"]\n",
    "col_target = df[\"Potability\"]\n",
    "corr_chloramines_target = col_chloramines.corr(col_target)\n",
    "\n",
    "sns.regplot(col_chloramines, col_target)\n",
    "print(\"Kolerasi kolom Chloramines dengan kolom Target adalah:\", corr_chloramines_target)"
   ]
  },
  {
   "cell_type": "markdown",
   "id": "b2ca9610",
   "metadata": {},
   "source": [
    "<strong>Kesimpulan</strong>:\n",
    "Dikarenakan nilai korelasi antara kolom Chloramines dengan kolom Target mendekati 0, maka dapat dikatakan bahwa kedua kolom tersebut tidak berkolerasi"
   ]
  },
  {
   "cell_type": "markdown",
   "id": "ba9e2054",
   "metadata": {},
   "source": [
    "<h3>6.5 Korelasi Kolom Sulfate dengan Kolom Target (Potability)</h3>"
   ]
  },
  {
   "cell_type": "code",
   "execution_count": 45,
   "id": "3c247629",
   "metadata": {},
   "outputs": [
    {
     "name": "stdout",
     "output_type": "stream",
     "text": [
      "Kolerasi kolom Sulfate dengan kolom Target adalah: -0.015703164419273778\n"
     ]
    },
    {
     "data": {
      "image/png": "[encoded data removed]",
      "text/plain": [
       "<Figure size 432x288 with 1 Axes>"
      ]
     },
     "metadata": {
      "needs_background": "light"
     },
     "output_type": "display_data"
    }
   ],
   "source": [
    "col_sulfate = df[\"Sulfate\"]\n",
    "col_target = df[\"Potability\"]\n",
    "corr_sulfate_target = col_sulfate.corr(col_target)\n",
    "\n",
    "sns.regplot(col_sulfate, col_target)\n",
    "print(\"Kolerasi kolom Sulfate dengan kolom Target adalah:\", corr_sulfate_target)"
   ]
  },
  {
   "cell_type": "markdown",
   "id": "c7382baf",
   "metadata": {},
   "source": [
    "<strong>Kesimpulan</strong>:\n",
    "Dikarenakan nilai korelasi antara kolom Sulfate dengan kolom Target mendekati 0, maka dapat dikatakan bahwa kedua kolom tersebut tidak berkolerasi"
   ]
  },
  {
   "cell_type": "markdown",
   "id": "6aaccd17",
   "metadata": {},
   "source": [
    "<h3>6.6 Korelasi Kolom Conductivity dengan Kolom Target (Potability)</h3>"
   ]
  },
  {
   "cell_type": "code",
   "execution_count": 46,
   "id": "51fbea8f",
   "metadata": {},
   "outputs": [
    {
     "name": "stdout",
     "output_type": "stream",
     "text": [
      "Kolerasi kolom Conductivity dengan kolom Target adalah: -0.016257120111377067\n"
     ]
    },
    {
     "data": {
      "image/png": "[encoded data removed]",
      "text/plain": [
       "<Figure size 432x288 with 1 Axes>"
      ]
     },
     "metadata": {
      "needs_background": "light"
     },
     "output_type": "display_data"
    }
   ],
   "source": [
    "col_conductivity = df[\"Conductivity\"]\n",
    "col_target = df[\"Potability\"]\n",
    "corr_conductivity_target = col_conductivity.corr(col_target)\n",
    "\n",
    "sns.regplot(col_conductivity, col_target)\n",
    "print(\"Kolerasi kolom Conductivity dengan kolom Target adalah:\", corr_conductivity_target)"
   ]
  },
  {
   "cell_type": "markdown",
   "id": "2212281f",
   "metadata": {},
   "source": [
    "<strong>Kesimpulan</strong>:\n",
    "Dikarenakan nilai korelasi antara kolom Conductivity dengan kolom Target mendekati 0, maka dapat dikatakan bahwa kedua kolom tersebut tidak berkolerasi"
   ]
  },
  {
   "cell_type": "markdown",
   "id": "fec32664",
   "metadata": {},
   "source": [
    "<h3>6.7 Korelasi Kolom Organic Carbon dengan Kolom Target (Potability)</h3>"
   ]
  },
  {
   "cell_type": "code",
   "execution_count": 47,
   "id": "6def5f4e",
   "metadata": {},
   "outputs": [
    {
     "name": "stdout",
     "output_type": "stream",
     "text": [
      "Kolerasi kolom Organic Carbon dengan kolom Target adalah: -0.015488461910747259\n"
     ]
    },
    {
     "data": {
      "image/png": "[encoded data removed]",
      "text/plain": [
       "<Figure size 432x288 with 1 Axes>"
      ]
     },
     "metadata": {
      "needs_background": "light"
     },
     "output_type": "display_data"
    }
   ],
   "source": [
    "col_organic_carbon = df[\"OrganicCarbon\"]\n",
    "col_target = df[\"Potability\"]\n",
    "corr_organic_carbon_target = col_organic_carbon.corr(col_target)\n",
    "\n",
    "sns.regplot(col_organic_carbon, col_target)\n",
    "print(\"Kolerasi kolom Organic Carbon dengan kolom Target adalah:\", corr_organic_carbon_target)"
   ]
  },
  {
   "cell_type": "markdown",
   "id": "448290dd",
   "metadata": {},
   "source": [
    "<strong>Kesimpulan</strong>:\n",
    "Dikarenakan nilai korelasi antara kolom Organic Carbon dengan kolom Target mendekati 0, maka dapat dikatakan bahwa kedua kolom tersebut tidak berkolerasi"
   ]
  },
  {
   "cell_type": "markdown",
   "id": "39b6f5ce",
   "metadata": {},
   "source": [
    "<h3>6.8 Korelasi Kolom Trihalomethanes dengan Kolom Target (Potability)</h3>"
   ]
  },
  {
   "cell_type": "code",
   "execution_count": 48,
   "id": "dd493829",
   "metadata": {},
   "outputs": [
    {
     "name": "stdout",
     "output_type": "stream",
     "text": [
      "Kolerasi kolom Trihalomethanes dengan kolom Target adalah: 0.009236711064712997\n"
     ]
    },
    {
     "data": {
      "image/png": "[encoded data removed]",
      "text/plain": [
       "<Figure size 432x288 with 1 Axes>"
      ]
     },
     "metadata": {
      "needs_background": "light"
     },
     "output_type": "display_data"
    }
   ],
   "source": [
    "col_trihalomethanes = df[\"Trihalomethanes\"]\n",
    "col_target = df[\"Potability\"]\n",
    "corr_trihalomethanes_target = col_trihalomethanes.corr(col_target)\n",
    "\n",
    "sns.regplot(col_trihalomethanes, col_target)\n",
    "print(\"Kolerasi kolom Trihalomethanes dengan kolom Target adalah:\", corr_trihalomethanes_target)"
   ]
  },
  {
   "cell_type": "markdown",
   "id": "631859a1",
   "metadata": {},
   "source": [
    "<strong>Kesimpulan</strong>:\n",
    "Dikarenakan nilai korelasi antara kolom Trihalomethanes dengan kolom Target mendekati 0, maka dapat dikatakan bahwa kedua kolom tersebut tidak berkolerasi"
   ]
  },
  {
   "cell_type": "markdown",
   "id": "20d95d6a",
   "metadata": {},
   "source": [
    "<h3>6.9 Korelasi Kolom Turbidity dengan Kolom Target (Potability)</h3>"
   ]
  },
  {
   "cell_type": "code",
   "execution_count": 49,
   "id": "6ba99663",
   "metadata": {},
   "outputs": [
    {
     "name": "stdout",
     "output_type": "stream",
     "text": [
      "Kolerasi kolom Turbidity dengan kolom Target adalah: 0.022331042640622665\n"
     ]
    },
    {
     "data": {
      "image/png": "[encoded data removed]",
      "text/plain": [
       "<Figure size 432x288 with 1 Axes>"
      ]
     },
     "metadata": {
      "needs_background": "light"
     },
     "output_type": "display_data"
    }
   ],
   "source": [
    "col_turbidity = df[\"Turbidity\"]\n",
    "col_target = df[\"Potability\"]\n",
    "corr_turbidity_target = col_turbidity.corr(col_target)\n",
    "\n",
    "sns.regplot(col_turbidity, col_target)\n",
    "print(\"Kolerasi kolom Turbidity dengan kolom Target adalah:\", corr_turbidity_target)"
   ]
  },
  {
   "cell_type": "markdown",
   "id": "b74ebe17",
   "metadata": {},
   "source": [
    "<strong>Kesimpulan</strong>:\n",
    "Dikarenakan nilai korelasi antara kolom Turbility dengan kolom Target mendekati 0, maka dapat dikatakan bahwa kedua kolom tersebut tidak berkolerasi"
   ]
  }
 ],
 "metadata": {
  "kernelspec": {
   "display_name": "Python 3 (ipykernel)",
   "language": "python",
   "name": "python3"
  },
  "language_info": {
   "codemirror_mode": {
    "name": "ipython",
    "version": 3
   },
   "file_extension": ".py",
   "mimetype": "text/x-python",
   "name": "python",
   "nbconvert_exporter": "python",
   "pygments_lexer": "ipython3",
   "version": "3.9.6"
  }
 },
 "nbformat": 4,
 "nbformat_minor": 5
}
