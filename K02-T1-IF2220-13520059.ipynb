{
 "cells": [
  {
   "cell_type": "markdown",
   "id": "6ee92679",
   "metadata": {},
   "source": [
    "<font size=\"5\"><center>Tugas Besar IF2220 Probabilitas dan Statistika</center></font>\n",
    "<br>\n",
    "<font size=\"4\"><center>Suryanto - 13520059</center></font>\n",
    "<font size=\"4\"><center>Steven - 13520131</center></font>"
   ]
  },
  {
   "cell_type": "code",
   "execution_count": null,
   "id": "c06e1e25",
   "metadata": {},
   "outputs": [],
   "source": []
  }
 ],
 "metadata": {
  "kernelspec": {
   "display_name": "Python 3 (ipykernel)",
   "language": "python",
   "name": "python3"
  },
  "language_info": {
   "codemirror_mode": {
    "name": "ipython",
    "version": 3
   },
   "file_extension": ".py",
   "mimetype": "text/x-python",
   "name": "python",
   "nbconvert_exporter": "python",
   "pygments_lexer": "ipython3",
   "version": "3.9.7"
  }
 },
 "nbformat": 4,
 "nbformat_minor": 5
}
